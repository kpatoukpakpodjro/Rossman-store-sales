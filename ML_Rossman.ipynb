{
 "cells": [
  {
   "cell_type": "code",
   "execution_count": null,
   "id": "4afa0470-6d11-4394-b45e-201bd3007ae3",
   "metadata": {},
   "outputs": [],
   "source": []
  },
  {
   "cell_type": "markdown",
   "id": "b7a0c0c7-f1ea-43d7-a81f-ec0d09cecc5c",
   "metadata": {},
   "source": [
    "# Définition du problème"
   ]
  },
  {
   "cell_type": "markdown",
   "id": "d18ea7f7-24f0-4581-9f1d-35bff3bc4881",
   "metadata": {},
   "source": [
    "Rosstomn est une des plus longues chaines de pharmancie en Allemangne, avec des opérations à travers l'Europe.\n",
    "\n",
    "Fin 2018, elle comptais 3900 boutiques en Europe avec un chiffre d'affaire 9 milliard.\n",
    "\n",
    "Notre travail ici consiste à prédire les ventes d'une boutique donnée à une date donnée."
   ]
  },
  {
   "cell_type": "markdown",
   "id": "9455cf21-a341-457e-bc4b-ab967fac3b0d",
   "metadata": {},
   "source": [
    "# Le Business Problem\n",
    " Utilisation de modèle SCQ de Mu Sigma Inc.\n",
    " * Current Situation : L'équipe marketing de Rossman souhaite concevoir des campagnes promotionnelles pour les clients des magasins et ainsi augmenter les ventes. \r\n",
    "Le manque de visibilité sur les ventes futures des magasins rend la conception de la campagne compliquée et moins efficace pour les magasins dont les performances sont attendues\n",
    "   \n",
    " * Complication : L'équipe ne dispose pas des outils nécessaires pour étudier et estimer les futures ventes en magasin.\n",
    " * Question : Comment pouvons-nous estimer les ventes futures d’un magasin ? Quelle est la précision de l’estimation ?\n",
    " * Desired feature  state L'équipe marketing et promotions dispose désormais des moyens de prévoir avec précision les ventes des magasins requis et donc de concevoir des campagnes promotionnelles basées sur les performances attendues du magasin pour augmenter les ventes globales.: "
   ]
  },
  {
   "cell_type": "code",
   "execution_count": null,
   "id": "2762f7d4-f0ab-4603-ac7e-99fa159437b7",
   "metadata": {},
   "outputs": [],
   "source": []
  },
  {
   "cell_type": "markdown",
   "id": "d172b072-9e48-408d-bbcd-0b060f7f2bc9",
   "metadata": {},
   "source": [
    "# Lecture des données"
   ]
  },
  {
   "cell_type": "code",
   "execution_count": 1,
   "id": "31c27848-d33e-4610-af0a-847634a5e1d8",
   "metadata": {},
   "outputs": [],
   "source": [
    "import pandas as pd"
   ]
  },
  {
   "cell_type": "code",
   "execution_count": 2,
   "id": "9a2d45f2-a66c-48b9-a4a0-28f266b7d059",
   "metadata": {},
   "outputs": [],
   "source": [
    "df1 = pd.read_csv(\"./dataset/train.csv\", low_memory=False,parse_dates=[\"Date\"])\n",
    "df2 = pd.read_csv(\"./dataset/store.csv\")"
   ]
  },
  {
   "cell_type": "markdown",
   "id": "d2a1e4b6-a139-4556-a6ae-e0e866831323",
   "metadata": {},
   "source": [
    "## 1. Description des données"
   ]
  },
  {
   "cell_type": "code",
   "execution_count": 28,
   "id": "cb4f8b88-6076-4714-a9ad-21415b58a4c9",
   "metadata": {},
   "outputs": [
    {
     "data": {
      "text/plain": [
       "(1017209, 9)"
      ]
     },
     "execution_count": 28,
     "metadata": {},
     "output_type": "execute_result"
    }
   ],
   "source": [
    "# taille du dataset des ventes\n",
    "df1.shape"
   ]
  },
  {
   "cell_type": "code",
   "execution_count": 23,
   "id": "ecd36845-0444-467e-a21c-89ce42ec5353",
   "metadata": {},
   "outputs": [
    {
     "data": {
      "text/plain": [
       "(1115, 10)"
      ]
     },
     "execution_count": 23,
     "metadata": {},
     "output_type": "execute_result"
    }
   ],
   "source": [
    "# taille du dataset des boutiques\n",
    "df2.shape"
   ]
  },
  {
   "cell_type": "code",
   "execution_count": 3,
   "id": "f71d2459-8a4b-47e3-81dc-e7de58e74083",
   "metadata": {},
   "outputs": [],
   "source": [
    "# Fusion des des données de vente et celles concernant les différentes boutiques\n",
    "df = df1.merge(df2, on=[\"Store\"], how = \"inner\")"
   ]
  },
  {
   "cell_type": "code",
   "execution_count": 31,
   "id": "ebb43a75-f382-4b8a-9c40-3be4816d1be7",
   "metadata": {},
   "outputs": [
    {
     "data": {
      "text/plain": [
       "Index(['Store', 'DayOfWeek', 'Date', 'Sales', 'Customers', 'Open', 'Promo',\n",
       "       'StateHoliday', 'SchoolHoliday', 'StoreType', 'Assortment',\n",
       "       'CompetitionDistance', 'CompetitionOpenSinceMonth',\n",
       "       'CompetitionOpenSinceYear', 'Promo2', 'Promo2SinceWeek',\n",
       "       'Promo2SinceYear', 'PromoInterval'],\n",
       "      dtype='object')"
      ]
     },
     "execution_count": 31,
     "metadata": {},
     "output_type": "execute_result"
    }
   ],
   "source": [
    "df.columns"
   ]
  },
  {
   "cell_type": "code",
   "execution_count": null,
   "id": "84911bc0-69f0-4a54-85a0-bb5d4122b08d",
   "metadata": {},
   "outputs": [],
   "source": []
  },
  {
   "cell_type": "markdown",
   "id": "e5b4e981-5589-41ca-a701-84b5f2957286",
   "metadata": {},
   "source": [
    "# Importons les librairies nécessaires"
   ]
  },
  {
   "cell_type": "code",
   "execution_count": 4,
   "id": "838da4ca-da9e-4d57-bf09-16332b64f990",
   "metadata": {},
   "outputs": [],
   "source": [
    "import numpy as np\n",
    "import matplotlib.pylab as plt\n",
    "from sklearn.preprocessing import StandardScaler, MinMaxScaler, Normalizer\n",
    "from sklearn.model_selection import train_test_split\n",
    "import warnings\n",
    "warnings.filterwarnings(\"ignore\")"
   ]
  },
  {
   "cell_type": "markdown",
   "id": "984860cf-0fba-4881-a6fc-608268dc8011",
   "metadata": {},
   "source": [
    "## Aperçu du dataset"
   ]
  },
  {
   "cell_type": "code",
   "execution_count": 9,
   "id": "e7e1ba42-7aae-49d7-b7f3-75968fcef8cf",
   "metadata": {},
   "outputs": [
    {
     "name": "stdout",
     "output_type": "stream",
     "text": [
      " Forme avant la suppression des doublons :  (1017209, 18)\n",
      "\n",
      " Forme après suppression :  (1017209, 18)\n"
     ]
    }
   ],
   "source": [
    "print(\" Forme avant la suppression des doublons : \", df.shape) \n",
    "df.drop_duplicates(inplace=True)\n",
    "print(\"\\n Forme après suppression : \", df.shape)"
   ]
  },
  {
   "cell_type": "code",
   "execution_count": 34,
   "id": "423747f8-dff6-4314-88f7-856fd63a98f7",
   "metadata": {},
   "outputs": [
    {
     "name": "stdout",
     "output_type": "stream",
     "text": [
      " Base d'examples : \n",
      " \n"
     ]
    },
    {
     "data": {
      "text/html": [
       "<div>\n",
       "<style scoped>\n",
       "    .dataframe tbody tr th:only-of-type {\n",
       "        vertical-align: middle;\n",
       "    }\n",
       "\n",
       "    .dataframe tbody tr th {\n",
       "        vertical-align: top;\n",
       "    }\n",
       "\n",
       "    .dataframe thead th {\n",
       "        text-align: right;\n",
       "    }\n",
       "</style>\n",
       "<table border=\"1\" class=\"dataframe\">\n",
       "  <thead>\n",
       "    <tr style=\"text-align: right;\">\n",
       "      <th></th>\n",
       "      <th>Store</th>\n",
       "      <th>DayOfWeek</th>\n",
       "      <th>Date</th>\n",
       "      <th>Sales</th>\n",
       "      <th>Customers</th>\n",
       "      <th>Open</th>\n",
       "      <th>Promo</th>\n",
       "      <th>StateHoliday</th>\n",
       "      <th>SchoolHoliday</th>\n",
       "      <th>StoreType</th>\n",
       "      <th>Assortment</th>\n",
       "      <th>CompetitionDistance</th>\n",
       "      <th>CompetitionOpenSinceMonth</th>\n",
       "      <th>CompetitionOpenSinceYear</th>\n",
       "      <th>Promo2</th>\n",
       "      <th>Promo2SinceWeek</th>\n",
       "      <th>Promo2SinceYear</th>\n",
       "      <th>PromoInterval</th>\n",
       "    </tr>\n",
       "  </thead>\n",
       "  <tbody>\n",
       "    <tr>\n",
       "      <th>0</th>\n",
       "      <td>1</td>\n",
       "      <td>5</td>\n",
       "      <td>2015-07-31</td>\n",
       "      <td>5263</td>\n",
       "      <td>555</td>\n",
       "      <td>1</td>\n",
       "      <td>1</td>\n",
       "      <td>0</td>\n",
       "      <td>1</td>\n",
       "      <td>c</td>\n",
       "      <td>a</td>\n",
       "      <td>1270.0</td>\n",
       "      <td>9.0</td>\n",
       "      <td>2008.0</td>\n",
       "      <td>0</td>\n",
       "      <td>NaN</td>\n",
       "      <td>NaN</td>\n",
       "      <td>NaN</td>\n",
       "    </tr>\n",
       "    <tr>\n",
       "      <th>1</th>\n",
       "      <td>1</td>\n",
       "      <td>4</td>\n",
       "      <td>2015-07-30</td>\n",
       "      <td>5020</td>\n",
       "      <td>546</td>\n",
       "      <td>1</td>\n",
       "      <td>1</td>\n",
       "      <td>0</td>\n",
       "      <td>1</td>\n",
       "      <td>c</td>\n",
       "      <td>a</td>\n",
       "      <td>1270.0</td>\n",
       "      <td>9.0</td>\n",
       "      <td>2008.0</td>\n",
       "      <td>0</td>\n",
       "      <td>NaN</td>\n",
       "      <td>NaN</td>\n",
       "      <td>NaN</td>\n",
       "    </tr>\n",
       "    <tr>\n",
       "      <th>2</th>\n",
       "      <td>1</td>\n",
       "      <td>3</td>\n",
       "      <td>2015-07-29</td>\n",
       "      <td>4782</td>\n",
       "      <td>523</td>\n",
       "      <td>1</td>\n",
       "      <td>1</td>\n",
       "      <td>0</td>\n",
       "      <td>1</td>\n",
       "      <td>c</td>\n",
       "      <td>a</td>\n",
       "      <td>1270.0</td>\n",
       "      <td>9.0</td>\n",
       "      <td>2008.0</td>\n",
       "      <td>0</td>\n",
       "      <td>NaN</td>\n",
       "      <td>NaN</td>\n",
       "      <td>NaN</td>\n",
       "    </tr>\n",
       "    <tr>\n",
       "      <th>3</th>\n",
       "      <td>1</td>\n",
       "      <td>2</td>\n",
       "      <td>2015-07-28</td>\n",
       "      <td>5011</td>\n",
       "      <td>560</td>\n",
       "      <td>1</td>\n",
       "      <td>1</td>\n",
       "      <td>0</td>\n",
       "      <td>1</td>\n",
       "      <td>c</td>\n",
       "      <td>a</td>\n",
       "      <td>1270.0</td>\n",
       "      <td>9.0</td>\n",
       "      <td>2008.0</td>\n",
       "      <td>0</td>\n",
       "      <td>NaN</td>\n",
       "      <td>NaN</td>\n",
       "      <td>NaN</td>\n",
       "    </tr>\n",
       "    <tr>\n",
       "      <th>4</th>\n",
       "      <td>1</td>\n",
       "      <td>1</td>\n",
       "      <td>2015-07-27</td>\n",
       "      <td>6102</td>\n",
       "      <td>612</td>\n",
       "      <td>1</td>\n",
       "      <td>1</td>\n",
       "      <td>0</td>\n",
       "      <td>1</td>\n",
       "      <td>c</td>\n",
       "      <td>a</td>\n",
       "      <td>1270.0</td>\n",
       "      <td>9.0</td>\n",
       "      <td>2008.0</td>\n",
       "      <td>0</td>\n",
       "      <td>NaN</td>\n",
       "      <td>NaN</td>\n",
       "      <td>NaN</td>\n",
       "    </tr>\n",
       "    <tr>\n",
       "      <th>5</th>\n",
       "      <td>1</td>\n",
       "      <td>7</td>\n",
       "      <td>2015-07-26</td>\n",
       "      <td>0</td>\n",
       "      <td>0</td>\n",
       "      <td>0</td>\n",
       "      <td>0</td>\n",
       "      <td>0</td>\n",
       "      <td>0</td>\n",
       "      <td>c</td>\n",
       "      <td>a</td>\n",
       "      <td>1270.0</td>\n",
       "      <td>9.0</td>\n",
       "      <td>2008.0</td>\n",
       "      <td>0</td>\n",
       "      <td>NaN</td>\n",
       "      <td>NaN</td>\n",
       "      <td>NaN</td>\n",
       "    </tr>\n",
       "    <tr>\n",
       "      <th>6</th>\n",
       "      <td>1</td>\n",
       "      <td>6</td>\n",
       "      <td>2015-07-25</td>\n",
       "      <td>4364</td>\n",
       "      <td>500</td>\n",
       "      <td>1</td>\n",
       "      <td>0</td>\n",
       "      <td>0</td>\n",
       "      <td>0</td>\n",
       "      <td>c</td>\n",
       "      <td>a</td>\n",
       "      <td>1270.0</td>\n",
       "      <td>9.0</td>\n",
       "      <td>2008.0</td>\n",
       "      <td>0</td>\n",
       "      <td>NaN</td>\n",
       "      <td>NaN</td>\n",
       "      <td>NaN</td>\n",
       "    </tr>\n",
       "    <tr>\n",
       "      <th>7</th>\n",
       "      <td>1</td>\n",
       "      <td>5</td>\n",
       "      <td>2015-07-24</td>\n",
       "      <td>3706</td>\n",
       "      <td>459</td>\n",
       "      <td>1</td>\n",
       "      <td>0</td>\n",
       "      <td>0</td>\n",
       "      <td>0</td>\n",
       "      <td>c</td>\n",
       "      <td>a</td>\n",
       "      <td>1270.0</td>\n",
       "      <td>9.0</td>\n",
       "      <td>2008.0</td>\n",
       "      <td>0</td>\n",
       "      <td>NaN</td>\n",
       "      <td>NaN</td>\n",
       "      <td>NaN</td>\n",
       "    </tr>\n",
       "    <tr>\n",
       "      <th>8</th>\n",
       "      <td>1</td>\n",
       "      <td>4</td>\n",
       "      <td>2015-07-23</td>\n",
       "      <td>3769</td>\n",
       "      <td>503</td>\n",
       "      <td>1</td>\n",
       "      <td>0</td>\n",
       "      <td>0</td>\n",
       "      <td>0</td>\n",
       "      <td>c</td>\n",
       "      <td>a</td>\n",
       "      <td>1270.0</td>\n",
       "      <td>9.0</td>\n",
       "      <td>2008.0</td>\n",
       "      <td>0</td>\n",
       "      <td>NaN</td>\n",
       "      <td>NaN</td>\n",
       "      <td>NaN</td>\n",
       "    </tr>\n",
       "    <tr>\n",
       "      <th>9</th>\n",
       "      <td>1</td>\n",
       "      <td>3</td>\n",
       "      <td>2015-07-22</td>\n",
       "      <td>3464</td>\n",
       "      <td>463</td>\n",
       "      <td>1</td>\n",
       "      <td>0</td>\n",
       "      <td>0</td>\n",
       "      <td>0</td>\n",
       "      <td>c</td>\n",
       "      <td>a</td>\n",
       "      <td>1270.0</td>\n",
       "      <td>9.0</td>\n",
       "      <td>2008.0</td>\n",
       "      <td>0</td>\n",
       "      <td>NaN</td>\n",
       "      <td>NaN</td>\n",
       "      <td>NaN</td>\n",
       "    </tr>\n",
       "    <tr>\n",
       "      <th>10</th>\n",
       "      <td>1</td>\n",
       "      <td>2</td>\n",
       "      <td>2015-07-21</td>\n",
       "      <td>3558</td>\n",
       "      <td>469</td>\n",
       "      <td>1</td>\n",
       "      <td>0</td>\n",
       "      <td>0</td>\n",
       "      <td>0</td>\n",
       "      <td>c</td>\n",
       "      <td>a</td>\n",
       "      <td>1270.0</td>\n",
       "      <td>9.0</td>\n",
       "      <td>2008.0</td>\n",
       "      <td>0</td>\n",
       "      <td>NaN</td>\n",
       "      <td>NaN</td>\n",
       "      <td>NaN</td>\n",
       "    </tr>\n",
       "    <tr>\n",
       "      <th>11</th>\n",
       "      <td>1</td>\n",
       "      <td>1</td>\n",
       "      <td>2015-07-20</td>\n",
       "      <td>4395</td>\n",
       "      <td>526</td>\n",
       "      <td>1</td>\n",
       "      <td>0</td>\n",
       "      <td>0</td>\n",
       "      <td>0</td>\n",
       "      <td>c</td>\n",
       "      <td>a</td>\n",
       "      <td>1270.0</td>\n",
       "      <td>9.0</td>\n",
       "      <td>2008.0</td>\n",
       "      <td>0</td>\n",
       "      <td>NaN</td>\n",
       "      <td>NaN</td>\n",
       "      <td>NaN</td>\n",
       "    </tr>\n",
       "    <tr>\n",
       "      <th>12</th>\n",
       "      <td>1</td>\n",
       "      <td>7</td>\n",
       "      <td>2015-07-19</td>\n",
       "      <td>0</td>\n",
       "      <td>0</td>\n",
       "      <td>0</td>\n",
       "      <td>0</td>\n",
       "      <td>0</td>\n",
       "      <td>0</td>\n",
       "      <td>c</td>\n",
       "      <td>a</td>\n",
       "      <td>1270.0</td>\n",
       "      <td>9.0</td>\n",
       "      <td>2008.0</td>\n",
       "      <td>0</td>\n",
       "      <td>NaN</td>\n",
       "      <td>NaN</td>\n",
       "      <td>NaN</td>\n",
       "    </tr>\n",
       "    <tr>\n",
       "      <th>13</th>\n",
       "      <td>1</td>\n",
       "      <td>6</td>\n",
       "      <td>2015-07-18</td>\n",
       "      <td>4406</td>\n",
       "      <td>512</td>\n",
       "      <td>1</td>\n",
       "      <td>0</td>\n",
       "      <td>0</td>\n",
       "      <td>0</td>\n",
       "      <td>c</td>\n",
       "      <td>a</td>\n",
       "      <td>1270.0</td>\n",
       "      <td>9.0</td>\n",
       "      <td>2008.0</td>\n",
       "      <td>0</td>\n",
       "      <td>NaN</td>\n",
       "      <td>NaN</td>\n",
       "      <td>NaN</td>\n",
       "    </tr>\n",
       "    <tr>\n",
       "      <th>14</th>\n",
       "      <td>1</td>\n",
       "      <td>5</td>\n",
       "      <td>2015-07-17</td>\n",
       "      <td>4852</td>\n",
       "      <td>519</td>\n",
       "      <td>1</td>\n",
       "      <td>1</td>\n",
       "      <td>0</td>\n",
       "      <td>0</td>\n",
       "      <td>c</td>\n",
       "      <td>a</td>\n",
       "      <td>1270.0</td>\n",
       "      <td>9.0</td>\n",
       "      <td>2008.0</td>\n",
       "      <td>0</td>\n",
       "      <td>NaN</td>\n",
       "      <td>NaN</td>\n",
       "      <td>NaN</td>\n",
       "    </tr>\n",
       "    <tr>\n",
       "      <th>15</th>\n",
       "      <td>1</td>\n",
       "      <td>4</td>\n",
       "      <td>2015-07-16</td>\n",
       "      <td>4427</td>\n",
       "      <td>517</td>\n",
       "      <td>1</td>\n",
       "      <td>1</td>\n",
       "      <td>0</td>\n",
       "      <td>0</td>\n",
       "      <td>c</td>\n",
       "      <td>a</td>\n",
       "      <td>1270.0</td>\n",
       "      <td>9.0</td>\n",
       "      <td>2008.0</td>\n",
       "      <td>0</td>\n",
       "      <td>NaN</td>\n",
       "      <td>NaN</td>\n",
       "      <td>NaN</td>\n",
       "    </tr>\n",
       "    <tr>\n",
       "      <th>16</th>\n",
       "      <td>1</td>\n",
       "      <td>3</td>\n",
       "      <td>2015-07-15</td>\n",
       "      <td>4767</td>\n",
       "      <td>550</td>\n",
       "      <td>1</td>\n",
       "      <td>1</td>\n",
       "      <td>0</td>\n",
       "      <td>0</td>\n",
       "      <td>c</td>\n",
       "      <td>a</td>\n",
       "      <td>1270.0</td>\n",
       "      <td>9.0</td>\n",
       "      <td>2008.0</td>\n",
       "      <td>0</td>\n",
       "      <td>NaN</td>\n",
       "      <td>NaN</td>\n",
       "      <td>NaN</td>\n",
       "    </tr>\n",
       "    <tr>\n",
       "      <th>17</th>\n",
       "      <td>1</td>\n",
       "      <td>2</td>\n",
       "      <td>2015-07-14</td>\n",
       "      <td>5042</td>\n",
       "      <td>544</td>\n",
       "      <td>1</td>\n",
       "      <td>1</td>\n",
       "      <td>0</td>\n",
       "      <td>0</td>\n",
       "      <td>c</td>\n",
       "      <td>a</td>\n",
       "      <td>1270.0</td>\n",
       "      <td>9.0</td>\n",
       "      <td>2008.0</td>\n",
       "      <td>0</td>\n",
       "      <td>NaN</td>\n",
       "      <td>NaN</td>\n",
       "      <td>NaN</td>\n",
       "    </tr>\n",
       "    <tr>\n",
       "      <th>18</th>\n",
       "      <td>1</td>\n",
       "      <td>1</td>\n",
       "      <td>2015-07-13</td>\n",
       "      <td>5054</td>\n",
       "      <td>553</td>\n",
       "      <td>1</td>\n",
       "      <td>1</td>\n",
       "      <td>0</td>\n",
       "      <td>0</td>\n",
       "      <td>c</td>\n",
       "      <td>a</td>\n",
       "      <td>1270.0</td>\n",
       "      <td>9.0</td>\n",
       "      <td>2008.0</td>\n",
       "      <td>0</td>\n",
       "      <td>NaN</td>\n",
       "      <td>NaN</td>\n",
       "      <td>NaN</td>\n",
       "    </tr>\n",
       "    <tr>\n",
       "      <th>19</th>\n",
       "      <td>1</td>\n",
       "      <td>7</td>\n",
       "      <td>2015-07-12</td>\n",
       "      <td>0</td>\n",
       "      <td>0</td>\n",
       "      <td>0</td>\n",
       "      <td>0</td>\n",
       "      <td>0</td>\n",
       "      <td>0</td>\n",
       "      <td>c</td>\n",
       "      <td>a</td>\n",
       "      <td>1270.0</td>\n",
       "      <td>9.0</td>\n",
       "      <td>2008.0</td>\n",
       "      <td>0</td>\n",
       "      <td>NaN</td>\n",
       "      <td>NaN</td>\n",
       "      <td>NaN</td>\n",
       "    </tr>\n",
       "  </tbody>\n",
       "</table>\n",
       "</div>"
      ],
      "text/plain": [
       "    Store  DayOfWeek       Date  Sales  Customers  Open  Promo StateHoliday  \\\n",
       "0       1          5 2015-07-31   5263        555     1      1            0   \n",
       "1       1          4 2015-07-30   5020        546     1      1            0   \n",
       "2       1          3 2015-07-29   4782        523     1      1            0   \n",
       "3       1          2 2015-07-28   5011        560     1      1            0   \n",
       "4       1          1 2015-07-27   6102        612     1      1            0   \n",
       "5       1          7 2015-07-26      0          0     0      0            0   \n",
       "6       1          6 2015-07-25   4364        500     1      0            0   \n",
       "7       1          5 2015-07-24   3706        459     1      0            0   \n",
       "8       1          4 2015-07-23   3769        503     1      0            0   \n",
       "9       1          3 2015-07-22   3464        463     1      0            0   \n",
       "10      1          2 2015-07-21   3558        469     1      0            0   \n",
       "11      1          1 2015-07-20   4395        526     1      0            0   \n",
       "12      1          7 2015-07-19      0          0     0      0            0   \n",
       "13      1          6 2015-07-18   4406        512     1      0            0   \n",
       "14      1          5 2015-07-17   4852        519     1      1            0   \n",
       "15      1          4 2015-07-16   4427        517     1      1            0   \n",
       "16      1          3 2015-07-15   4767        550     1      1            0   \n",
       "17      1          2 2015-07-14   5042        544     1      1            0   \n",
       "18      1          1 2015-07-13   5054        553     1      1            0   \n",
       "19      1          7 2015-07-12      0          0     0      0            0   \n",
       "\n",
       "    SchoolHoliday StoreType Assortment  CompetitionDistance  \\\n",
       "0               1         c          a               1270.0   \n",
       "1               1         c          a               1270.0   \n",
       "2               1         c          a               1270.0   \n",
       "3               1         c          a               1270.0   \n",
       "4               1         c          a               1270.0   \n",
       "5               0         c          a               1270.0   \n",
       "6               0         c          a               1270.0   \n",
       "7               0         c          a               1270.0   \n",
       "8               0         c          a               1270.0   \n",
       "9               0         c          a               1270.0   \n",
       "10              0         c          a               1270.0   \n",
       "11              0         c          a               1270.0   \n",
       "12              0         c          a               1270.0   \n",
       "13              0         c          a               1270.0   \n",
       "14              0         c          a               1270.0   \n",
       "15              0         c          a               1270.0   \n",
       "16              0         c          a               1270.0   \n",
       "17              0         c          a               1270.0   \n",
       "18              0         c          a               1270.0   \n",
       "19              0         c          a               1270.0   \n",
       "\n",
       "    CompetitionOpenSinceMonth  CompetitionOpenSinceYear  Promo2  \\\n",
       "0                         9.0                    2008.0       0   \n",
       "1                         9.0                    2008.0       0   \n",
       "2                         9.0                    2008.0       0   \n",
       "3                         9.0                    2008.0       0   \n",
       "4                         9.0                    2008.0       0   \n",
       "5                         9.0                    2008.0       0   \n",
       "6                         9.0                    2008.0       0   \n",
       "7                         9.0                    2008.0       0   \n",
       "8                         9.0                    2008.0       0   \n",
       "9                         9.0                    2008.0       0   \n",
       "10                        9.0                    2008.0       0   \n",
       "11                        9.0                    2008.0       0   \n",
       "12                        9.0                    2008.0       0   \n",
       "13                        9.0                    2008.0       0   \n",
       "14                        9.0                    2008.0       0   \n",
       "15                        9.0                    2008.0       0   \n",
       "16                        9.0                    2008.0       0   \n",
       "17                        9.0                    2008.0       0   \n",
       "18                        9.0                    2008.0       0   \n",
       "19                        9.0                    2008.0       0   \n",
       "\n",
       "    Promo2SinceWeek  Promo2SinceYear PromoInterval  \n",
       "0               NaN              NaN           NaN  \n",
       "1               NaN              NaN           NaN  \n",
       "2               NaN              NaN           NaN  \n",
       "3               NaN              NaN           NaN  \n",
       "4               NaN              NaN           NaN  \n",
       "5               NaN              NaN           NaN  \n",
       "6               NaN              NaN           NaN  \n",
       "7               NaN              NaN           NaN  \n",
       "8               NaN              NaN           NaN  \n",
       "9               NaN              NaN           NaN  \n",
       "10              NaN              NaN           NaN  \n",
       "11              NaN              NaN           NaN  \n",
       "12              NaN              NaN           NaN  \n",
       "13              NaN              NaN           NaN  \n",
       "14              NaN              NaN           NaN  \n",
       "15              NaN              NaN           NaN  \n",
       "16              NaN              NaN           NaN  \n",
       "17              NaN              NaN           NaN  \n",
       "18              NaN              NaN           NaN  \n",
       "19              NaN              NaN           NaN  "
      ]
     },
     "execution_count": 34,
     "metadata": {},
     "output_type": "execute_result"
    }
   ],
   "source": [
    "print(\" Base d'examples : \\n \")\n",
    "df.head(20)"
   ]
  },
  {
   "cell_type": "code",
   "execution_count": 38,
   "id": "62b55f6b-4b1d-41ab-8b56-434897a3172b",
   "metadata": {},
   "outputs": [
    {
     "name": "stdout",
     "output_type": "stream",
     "text": [
      " Nombre total de boutiques :  1115\n",
      " Nombre de jours des ventes actuelles :  942\n",
      " Nombre moyen des ventes jornalières :  5773.818972305593\n"
     ]
    }
   ],
   "source": [
    "print(\" Nombre total de boutiques : \", len(df[\"Store\"].unique()))\n",
    "print(\" Nombre de jours des ventes actuelles : \", len(df[\"Date\"].unique()))\n",
    "print(\" Nombre moyen des ventes jornalières : \", df[\"Sales\"].mean())"
   ]
  },
  {
   "cell_type": "markdown",
   "id": "af71c06a-66ed-4975-9359-4c829bce8381",
   "metadata": {},
   "source": [
    "# Les types de données"
   ]
  },
  {
   "cell_type": "code",
   "execution_count": 39,
   "id": "7f1581cc-6d36-4392-896b-4f60fdc9c4df",
   "metadata": {},
   "outputs": [
    {
     "data": {
      "text/plain": [
       "Store                                 int64\n",
       "DayOfWeek                             int64\n",
       "Date                         datetime64[ns]\n",
       "Sales                                 int64\n",
       "Customers                             int64\n",
       "Open                                  int64\n",
       "Promo                                 int64\n",
       "StateHoliday                         object\n",
       "SchoolHoliday                         int64\n",
       "StoreType                            object\n",
       "Assortment                           object\n",
       "CompetitionDistance                 float64\n",
       "CompetitionOpenSinceMonth           float64\n",
       "CompetitionOpenSinceYear            float64\n",
       "Promo2                                int64\n",
       "Promo2SinceWeek                     float64\n",
       "Promo2SinceYear                     float64\n",
       "PromoInterval                        object\n",
       "dtype: object"
      ]
     },
     "execution_count": 39,
     "metadata": {},
     "output_type": "execute_result"
    }
   ],
   "source": [
    "df.dtypes"
   ]
  },
  {
   "cell_type": "markdown",
   "id": "26b6547b-c968-44e4-946b-5f2d513a6075",
   "metadata": {},
   "source": [
    "* Voyons s'il y a une différence significative des ventes selon le jour de la semaine"
   ]
  },
  {
   "cell_type": "code",
   "execution_count": 6,
   "id": "fccfd767-bf43-4d36-81e3-b4f5d8c7d214",
   "metadata": {},
   "outputs": [
    {
     "data": {
      "text/plain": [
       "DayOfWeek\n",
       "5    145845\n",
       "4    145845\n",
       "3    145665\n",
       "2    145664\n",
       "1    144730\n",
       "7    144730\n",
       "6    144730\n",
       "Name: count, dtype: int64"
      ]
     },
     "execution_count": 6,
     "metadata": {},
     "output_type": "execute_result"
    }
   ],
   "source": [
    "df.DayOfWeek.value_counts()"
   ]
  },
  {
   "cell_type": "markdown",
   "id": "a6ca0903-88fb-4dd6-bdb0-757cc29173b0",
   "metadata": {},
   "source": [
    "* Le jour n'influence pas la vente ( car toujours autoure de 145700 )\n",
    "\n",
    "\n",
    "\n",
    "Allons plus en détail en voyant la semaine, le mois, semestre, ..."
   ]
  },
  {
   "cell_type": "code",
   "execution_count": 5,
   "id": "af35742c-face-4296-9804-20141c2af614",
   "metadata": {},
   "outputs": [],
   "source": [
    "# Création d'autres variables\n",
    "df['Date'] = pd.to_datetime(df['Date'], infer_datetime_format=True)\n",
    "\n",
    "df['Day'] = df['Date'].dt.day\n",
    "df['Week'] = df['Date'].dt.isocalendar().week\n",
    "df['Month'] = df['Date'].dt.month\n",
    "df['Quarter'] = df['Date'].dt.quarter\n",
    "df['Year'] = df['Date'].dt.year\n",
    "df['Season'] = np.where(df[\"Month\"].isin([3,4,5]),\"Spring\",\n",
    "                 np.where(df[\"Month\"].isin([6,7,8]), \"Summer\",\n",
    "                   np.where(df[\"Month\"].isin ([9,10,11]),\"Fall\",\n",
    "                     np.where(df[\"Month\"].isin([12,1,2]),\"Winter\",\"None\"))\n",
    "                         )\n",
    "                       )"
   ]
  },
  {
   "cell_type": "code",
   "execution_count": 27,
   "id": "8c12d784-3e1e-42eb-a9bf-6164e563382c",
   "metadata": {},
   "outputs": [
    {
     "data": {
      "text/html": [
       "<div>\n",
       "<style scoped>\n",
       "    .dataframe tbody tr th:only-of-type {\n",
       "        vertical-align: middle;\n",
       "    }\n",
       "\n",
       "    .dataframe tbody tr th {\n",
       "        vertical-align: top;\n",
       "    }\n",
       "\n",
       "    .dataframe thead th {\n",
       "        text-align: right;\n",
       "    }\n",
       "</style>\n",
       "<table border=\"1\" class=\"dataframe\">\n",
       "  <thead>\n",
       "    <tr style=\"text-align: right;\">\n",
       "      <th></th>\n",
       "      <th>Day</th>\n",
       "      <th>Week</th>\n",
       "      <th>Month</th>\n",
       "      <th>Quarter</th>\n",
       "      <th>Year</th>\n",
       "      <th>Season</th>\n",
       "    </tr>\n",
       "  </thead>\n",
       "  <tbody>\n",
       "    <tr>\n",
       "      <th>0</th>\n",
       "      <td>31</td>\n",
       "      <td>31</td>\n",
       "      <td>7</td>\n",
       "      <td>3</td>\n",
       "      <td>2015</td>\n",
       "      <td>Summer</td>\n",
       "    </tr>\n",
       "    <tr>\n",
       "      <th>1</th>\n",
       "      <td>30</td>\n",
       "      <td>31</td>\n",
       "      <td>7</td>\n",
       "      <td>3</td>\n",
       "      <td>2015</td>\n",
       "      <td>Summer</td>\n",
       "    </tr>\n",
       "    <tr>\n",
       "      <th>2</th>\n",
       "      <td>29</td>\n",
       "      <td>31</td>\n",
       "      <td>7</td>\n",
       "      <td>3</td>\n",
       "      <td>2015</td>\n",
       "      <td>Summer</td>\n",
       "    </tr>\n",
       "    <tr>\n",
       "      <th>3</th>\n",
       "      <td>28</td>\n",
       "      <td>31</td>\n",
       "      <td>7</td>\n",
       "      <td>3</td>\n",
       "      <td>2015</td>\n",
       "      <td>Summer</td>\n",
       "    </tr>\n",
       "    <tr>\n",
       "      <th>4</th>\n",
       "      <td>27</td>\n",
       "      <td>31</td>\n",
       "      <td>7</td>\n",
       "      <td>3</td>\n",
       "      <td>2015</td>\n",
       "      <td>Summer</td>\n",
       "    </tr>\n",
       "    <tr>\n",
       "      <th>5</th>\n",
       "      <td>26</td>\n",
       "      <td>30</td>\n",
       "      <td>7</td>\n",
       "      <td>3</td>\n",
       "      <td>2015</td>\n",
       "      <td>Summer</td>\n",
       "    </tr>\n",
       "    <tr>\n",
       "      <th>6</th>\n",
       "      <td>25</td>\n",
       "      <td>30</td>\n",
       "      <td>7</td>\n",
       "      <td>3</td>\n",
       "      <td>2015</td>\n",
       "      <td>Summer</td>\n",
       "    </tr>\n",
       "    <tr>\n",
       "      <th>7</th>\n",
       "      <td>24</td>\n",
       "      <td>30</td>\n",
       "      <td>7</td>\n",
       "      <td>3</td>\n",
       "      <td>2015</td>\n",
       "      <td>Summer</td>\n",
       "    </tr>\n",
       "    <tr>\n",
       "      <th>8</th>\n",
       "      <td>23</td>\n",
       "      <td>30</td>\n",
       "      <td>7</td>\n",
       "      <td>3</td>\n",
       "      <td>2015</td>\n",
       "      <td>Summer</td>\n",
       "    </tr>\n",
       "    <tr>\n",
       "      <th>9</th>\n",
       "      <td>22</td>\n",
       "      <td>30</td>\n",
       "      <td>7</td>\n",
       "      <td>3</td>\n",
       "      <td>2015</td>\n",
       "      <td>Summer</td>\n",
       "    </tr>\n",
       "  </tbody>\n",
       "</table>\n",
       "</div>"
      ],
      "text/plain": [
       "   Day  Week  Month  Quarter  Year  Season\n",
       "0   31    31      7        3  2015  Summer\n",
       "1   30    31      7        3  2015  Summer\n",
       "2   29    31      7        3  2015  Summer\n",
       "3   28    31      7        3  2015  Summer\n",
       "4   27    31      7        3  2015  Summer\n",
       "5   26    30      7        3  2015  Summer\n",
       "6   25    30      7        3  2015  Summer\n",
       "7   24    30      7        3  2015  Summer\n",
       "8   23    30      7        3  2015  Summer\n",
       "9   22    30      7        3  2015  Summer"
      ]
     },
     "execution_count": 27,
     "metadata": {},
     "output_type": "execute_result"
    }
   ],
   "source": [
    "# Un coup d'oeil sur les nouvelles colonnes\n",
    "\n",
    "df[[\"Day\",\"Week\", \"Month\", \"Quarter\", \"Year\", \"Season\"]].head(10)"
   ]
  },
  {
   "cell_type": "markdown",
   "id": "9d858c0d-d6c5-4f17-8e29-f3d4f66caf3d",
   "metadata": {},
   "source": [
    "# Détermination du type de problème Machine Learning\n",
    "* Variable cible : Sales ( continu)\n",
    "* Variables indépendantes : 'Store', 'DayOfWeek', 'Date', 'Customers', 'Open', 'Promo',\r\n",
    "       'StateHoliday', 'SchoolHoliday', 'StoreType', 'Assortment',\r\n",
    "       'CompetitionDistance', 'CompetitionOpenSinceMonth',\r\n",
    "       'CompetitionOpenSinceYear', 'Promo2', 'Promo2SinceWeek',\r\n",
    "       'Promo2SinceYear', 'PromoInterval', 'Day', 'Week', 'Month', 'Quarter',\r\n",
    "       'Year', 'S'inue.\r\n",
    "Quarter\r\n",
    "Year\r\n",
    "Season"
   ]
  },
  {
   "cell_type": "markdown",
   "id": "1da9366a-79c6-4b13-81f7-eb986b7ea919",
   "metadata": {},
   "source": [
    "# Sur la base de l'énoncé du problème, nous comprenons que nous devons créer un modèle de régression ML supervisé,car la variable cible(mpg) est continue."
   ]
  },
  {
   "cell_type": "markdown",
   "id": "884f19f2-1242-4851-93d2-333f231e570f",
   "metadata": {},
   "source": [
    "# Examination de la distribution de la variable cible \n",
    " Création d'un histogramme car la variable cible est continue \n",
    " Cela nous aidera à comprendre la distribution des valeurs"
   ]
  },
  {
   "cell_type": "code",
   "execution_count": 35,
   "id": "08b5735d-8446-4ea8-9e72-c6de1a76797a",
   "metadata": {},
   "outputs": [
    {
     "data": {
      "text/plain": [
       "<Axes: >"
      ]
     },
     "execution_count": 35,
     "metadata": {},
     "output_type": "execute_result"
    },
    {
     "data": {
      "image/png": "[encoded data removed]",
      "text/plain": [
       "<Figure size 640x480 with 1 Axes>"
      ]
     },
     "metadata": {},
     "output_type": "display_data"
    }
   ],
   "source": [
    "df['Sales'].hist()"
   ]
  },
  {
   "cell_type": "markdown",
   "id": "2c72691c-0b28-4f2a-8bc3-652c22084b60",
   "metadata": {},
   "source": [
    "La distribution des données de la variable cible est satisfaisante pour aller plus loin. \n",
    "Il existe un nombre suffisant de lignes pour chaque type de valeurs à partir desquelles apprendre.\n",
    "\n",
    "\n",
    "# Exploration basique des données \n",
    "* Observer les informations résumées des données \n",
    "* Types de données, valeurs manquantes basées sur le nombre de valeurs \n",
    "        non nulles par rapport au nombre total de lignes, etc. \n",
    "* Supprimer les variables des données qui ont trop de valeurs manquantes (valeurs manquantes > 30%) \n",
    "* Supprimer les variables qualitatives qui ne peut pas être utilisées dans Machine Learning"
   ]
  },
  {
   "cell_type": "code",
   "execution_count": null,
   "id": "f97fda30-6c9a-4373-8af8-35ce547a736d",
   "metadata": {},
   "outputs": [],
   "source": []
  },
  {
   "cell_type": "code",
   "execution_count": 37,
   "id": "98ebe44d-d6d0-4fec-bc9d-481aeb83b908",
   "metadata": {},
   "outputs": [
    {
     "name": "stdout",
     "output_type": "stream",
     "text": [
      "<class 'pandas.core.frame.DataFrame'>\n",
      "RangeIndex: 1017209 entries, 0 to 1017208\n",
      "Data columns (total 24 columns):\n",
      " #   Column                     Non-Null Count    Dtype         \n",
      "---  ------                     --------------    -----         \n",
      " 0   Store                      1017209 non-null  int64         \n",
      " 1   DayOfWeek                  1017209 non-null  int64         \n",
      " 2   Date                       1017209 non-null  datetime64[ns]\n",
      " 3   Sales                      1017209 non-null  int64         \n",
      " 4   Customers                  1017209 non-null  int64         \n",
      " 5   Open                       1017209 non-null  int64         \n",
      " 6   Promo                      1017209 non-null  int64         \n",
      " 7   StateHoliday               1017209 non-null  object        \n",
      " 8   SchoolHoliday              1017209 non-null  int64         \n",
      " 9   StoreType                  1017209 non-null  object        \n",
      " 10  Assortment                 1017209 non-null  object        \n",
      " 11  CompetitionDistance        1014567 non-null  float64       \n",
      " 12  CompetitionOpenSinceMonth  693861 non-null   float64       \n",
      " 13  CompetitionOpenSinceYear   693861 non-null   float64       \n",
      " 14  Promo2                     1017209 non-null  int64         \n",
      " 15  Promo2SinceWeek            509178 non-null   float64       \n",
      " 16  Promo2SinceYear            509178 non-null   float64       \n",
      " 17  PromoInterval              509178 non-null   object        \n",
      " 18  Day                        1017209 non-null  int32         \n",
      " 19  Week                       1017209 non-null  UInt32        \n",
      " 20  Month                      1017209 non-null  int32         \n",
      " 21  Quarter                    1017209 non-null  int32         \n",
      " 22  Year                       1017209 non-null  int32         \n",
      " 23  Season                     1017209 non-null  object        \n",
      "dtypes: UInt32(1), datetime64[ns](1), float64(5), int32(4), int64(8), object(5)\n",
      "memory usage: 167.8+ MB\n"
     ]
    }
   ],
   "source": [
    "df.info()"
   ]
  },
  {
   "cell_type": "code",
   "execution_count": 59,
   "id": "42de04c3-e9fe-4613-96e9-82f9fdbe8c83",
   "metadata": {},
   "outputs": [
    {
     "data": {
      "text/html": [
       "<div>\n",
       "<style scoped>\n",
       "    .dataframe tbody tr th:only-of-type {\n",
       "        vertical-align: middle;\n",
       "    }\n",
       "\n",
       "    .dataframe tbody tr th {\n",
       "        vertical-align: top;\n",
       "    }\n",
       "\n",
       "    .dataframe thead th {\n",
       "        text-align: right;\n",
       "    }\n",
       "</style>\n",
       "<table border=\"1\" class=\"dataframe\">\n",
       "  <thead>\n",
       "    <tr style=\"text-align: right;\">\n",
       "      <th></th>\n",
       "      <th>Store</th>\n",
       "      <th>DayOfWeek</th>\n",
       "      <th>Sales</th>\n",
       "      <th>Customers</th>\n",
       "      <th>Open</th>\n",
       "      <th>Promo</th>\n",
       "      <th>SchoolHoliday</th>\n",
       "      <th>CompetitionDistance</th>\n",
       "      <th>CompetitionOpenSinceMonth</th>\n",
       "      <th>CompetitionOpenSinceYear</th>\n",
       "      <th>Promo2</th>\n",
       "      <th>Promo2SinceWeek</th>\n",
       "      <th>Promo2SinceYear</th>\n",
       "      <th>Day</th>\n",
       "      <th>Week</th>\n",
       "      <th>Month</th>\n",
       "      <th>Quarter</th>\n",
       "      <th>Year</th>\n",
       "    </tr>\n",
       "  </thead>\n",
       "  <tbody>\n",
       "    <tr>\n",
       "      <th>count</th>\n",
       "      <td>1017209.000</td>\n",
       "      <td>1017209.000</td>\n",
       "      <td>1017209.000</td>\n",
       "      <td>1017209.000</td>\n",
       "      <td>1017209.000</td>\n",
       "      <td>1017209.000</td>\n",
       "      <td>1017209.000</td>\n",
       "      <td>1014567.000</td>\n",
       "      <td>693861.000</td>\n",
       "      <td>693861.000</td>\n",
       "      <td>1017209.000</td>\n",
       "      <td>509178.000</td>\n",
       "      <td>509178.000</td>\n",
       "      <td>1017209.000</td>\n",
       "      <td>1017209.0</td>\n",
       "      <td>1017209.000</td>\n",
       "      <td>1017209.000</td>\n",
       "      <td>1017209.000</td>\n",
       "    </tr>\n",
       "    <tr>\n",
       "      <th>mean</th>\n",
       "      <td>558.430</td>\n",
       "      <td>3.998</td>\n",
       "      <td>5773.819</td>\n",
       "      <td>633.146</td>\n",
       "      <td>0.830</td>\n",
       "      <td>0.382</td>\n",
       "      <td>0.179</td>\n",
       "      <td>5430.086</td>\n",
       "      <td>7.223</td>\n",
       "      <td>2008.690</td>\n",
       "      <td>0.501</td>\n",
       "      <td>23.269</td>\n",
       "      <td>2011.753</td>\n",
       "      <td>15.703</td>\n",
       "      <td>23.616</td>\n",
       "      <td>5.847</td>\n",
       "      <td>2.294</td>\n",
       "      <td>2013.832</td>\n",
       "    </tr>\n",
       "    <tr>\n",
       "      <th>std</th>\n",
       "      <td>321.909</td>\n",
       "      <td>1.997</td>\n",
       "      <td>3849.926</td>\n",
       "      <td>464.412</td>\n",
       "      <td>0.376</td>\n",
       "      <td>0.486</td>\n",
       "      <td>0.383</td>\n",
       "      <td>7715.324</td>\n",
       "      <td>3.212</td>\n",
       "      <td>5.993</td>\n",
       "      <td>0.500</td>\n",
       "      <td>14.096</td>\n",
       "      <td>1.663</td>\n",
       "      <td>8.788</td>\n",
       "      <td>14.433</td>\n",
       "      <td>3.326</td>\n",
       "      <td>1.082</td>\n",
       "      <td>0.777</td>\n",
       "    </tr>\n",
       "    <tr>\n",
       "      <th>min</th>\n",
       "      <td>1.000</td>\n",
       "      <td>1.000</td>\n",
       "      <td>0.000</td>\n",
       "      <td>0.000</td>\n",
       "      <td>0.000</td>\n",
       "      <td>0.000</td>\n",
       "      <td>0.000</td>\n",
       "      <td>20.000</td>\n",
       "      <td>1.000</td>\n",
       "      <td>1900.000</td>\n",
       "      <td>0.000</td>\n",
       "      <td>1.000</td>\n",
       "      <td>2009.000</td>\n",
       "      <td>1.000</td>\n",
       "      <td>1.0</td>\n",
       "      <td>1.000</td>\n",
       "      <td>1.000</td>\n",
       "      <td>2013.000</td>\n",
       "    </tr>\n",
       "    <tr>\n",
       "      <th>25%</th>\n",
       "      <td>280.000</td>\n",
       "      <td>2.000</td>\n",
       "      <td>3727.000</td>\n",
       "      <td>405.000</td>\n",
       "      <td>1.000</td>\n",
       "      <td>0.000</td>\n",
       "      <td>0.000</td>\n",
       "      <td>710.000</td>\n",
       "      <td>4.000</td>\n",
       "      <td>2006.000</td>\n",
       "      <td>0.000</td>\n",
       "      <td>13.000</td>\n",
       "      <td>2011.000</td>\n",
       "      <td>8.000</td>\n",
       "      <td>11.0</td>\n",
       "      <td>3.000</td>\n",
       "      <td>1.000</td>\n",
       "      <td>2013.000</td>\n",
       "    </tr>\n",
       "    <tr>\n",
       "      <th>50%</th>\n",
       "      <td>558.000</td>\n",
       "      <td>4.000</td>\n",
       "      <td>5744.000</td>\n",
       "      <td>609.000</td>\n",
       "      <td>1.000</td>\n",
       "      <td>0.000</td>\n",
       "      <td>0.000</td>\n",
       "      <td>2330.000</td>\n",
       "      <td>8.000</td>\n",
       "      <td>2010.000</td>\n",
       "      <td>1.000</td>\n",
       "      <td>22.000</td>\n",
       "      <td>2012.000</td>\n",
       "      <td>16.000</td>\n",
       "      <td>22.0</td>\n",
       "      <td>6.000</td>\n",
       "      <td>2.000</td>\n",
       "      <td>2014.000</td>\n",
       "    </tr>\n",
       "    <tr>\n",
       "      <th>75%</th>\n",
       "      <td>838.000</td>\n",
       "      <td>6.000</td>\n",
       "      <td>7856.000</td>\n",
       "      <td>837.000</td>\n",
       "      <td>1.000</td>\n",
       "      <td>1.000</td>\n",
       "      <td>0.000</td>\n",
       "      <td>6890.000</td>\n",
       "      <td>10.000</td>\n",
       "      <td>2013.000</td>\n",
       "      <td>1.000</td>\n",
       "      <td>37.000</td>\n",
       "      <td>2013.000</td>\n",
       "      <td>23.000</td>\n",
       "      <td>35.0</td>\n",
       "      <td>8.000</td>\n",
       "      <td>3.000</td>\n",
       "      <td>2014.000</td>\n",
       "    </tr>\n",
       "    <tr>\n",
       "      <th>max</th>\n",
       "      <td>1115.000</td>\n",
       "      <td>7.000</td>\n",
       "      <td>41551.000</td>\n",
       "      <td>7388.000</td>\n",
       "      <td>1.000</td>\n",
       "      <td>1.000</td>\n",
       "      <td>1.000</td>\n",
       "      <td>75860.000</td>\n",
       "      <td>12.000</td>\n",
       "      <td>2015.000</td>\n",
       "      <td>1.000</td>\n",
       "      <td>50.000</td>\n",
       "      <td>2015.000</td>\n",
       "      <td>31.000</td>\n",
       "      <td>52.0</td>\n",
       "      <td>12.000</td>\n",
       "      <td>4.000</td>\n",
       "      <td>2015.000</td>\n",
       "    </tr>\n",
       "  </tbody>\n",
       "</table>\n",
       "</div>"
      ],
      "text/plain": [
       "             Store    DayOfWeek        Sales    Customers         Open  \\\n",
       "count  1017209.000  1017209.000  1017209.000  1017209.000  1017209.000   \n",
       "mean       558.430        3.998     5773.819      633.146        0.830   \n",
       "std        321.909        1.997     3849.926      464.412        0.376   \n",
       "min          1.000        1.000        0.000        0.000        0.000   \n",
       "25%        280.000        2.000     3727.000      405.000        1.000   \n",
       "50%        558.000        4.000     5744.000      609.000        1.000   \n",
       "75%        838.000        6.000     7856.000      837.000        1.000   \n",
       "max       1115.000        7.000    41551.000     7388.000        1.000   \n",
       "\n",
       "             Promo  SchoolHoliday  CompetitionDistance  \\\n",
       "count  1017209.000    1017209.000          1014567.000   \n",
       "mean         0.382          0.179             5430.086   \n",
       "std          0.486          0.383             7715.324   \n",
       "min          0.000          0.000               20.000   \n",
       "25%          0.000          0.000              710.000   \n",
       "50%          0.000          0.000             2330.000   \n",
       "75%          1.000          0.000             6890.000   \n",
       "max          1.000          1.000            75860.000   \n",
       "\n",
       "       CompetitionOpenSinceMonth  CompetitionOpenSinceYear       Promo2  \\\n",
       "count                 693861.000                693861.000  1017209.000   \n",
       "mean                       7.223                  2008.690        0.501   \n",
       "std                        3.212                     5.993        0.500   \n",
       "min                        1.000                  1900.000        0.000   \n",
       "25%                        4.000                  2006.000        0.000   \n",
       "50%                        8.000                  2010.000        1.000   \n",
       "75%                       10.000                  2013.000        1.000   \n",
       "max                       12.000                  2015.000        1.000   \n",
       "\n",
       "       Promo2SinceWeek  Promo2SinceYear          Day       Week        Month  \\\n",
       "count       509178.000       509178.000  1017209.000  1017209.0  1017209.000   \n",
       "mean            23.269         2011.753       15.703     23.616        5.847   \n",
       "std             14.096            1.663        8.788     14.433        3.326   \n",
       "min              1.000         2009.000        1.000        1.0        1.000   \n",
       "25%             13.000         2011.000        8.000       11.0        3.000   \n",
       "50%             22.000         2012.000       16.000       22.0        6.000   \n",
       "75%             37.000         2013.000       23.000       35.0        8.000   \n",
       "max             50.000         2015.000       31.000       52.0       12.000   \n",
       "\n",
       "           Quarter         Year  \n",
       "count  1017209.000  1017209.000  \n",
       "mean         2.294     2013.832  \n",
       "std          1.082        0.777  \n",
       "min          1.000     2013.000  \n",
       "25%          1.000     2013.000  \n",
       "50%          2.000     2014.000  \n",
       "75%          3.000     2014.000  \n",
       "max          4.000     2015.000  "
      ]
     },
     "execution_count": 59,
     "metadata": {},
     "output_type": "execute_result"
    }
   ],
   "source": [
    "# Voyons les statistiques descriptives des données \n",
    "round(df.drop(['Date'], axis=1).describe(), 3) #.plot(figsize= (10,10))"
   ]
  },
  {
   "cell_type": "code",
   "execution_count": null,
   "id": "19f47d6a-b0d0-4b97-88de-e2641d3d1aab",
   "metadata": {},
   "outputs": [],
   "source": []
  },
  {
   "cell_type": "code",
   "execution_count": 63,
   "id": "39538a0c-3a6e-48b5-a2b3-c09ff6d49a8f",
   "metadata": {},
   "outputs": [
    {
     "data": {
      "text/html": [
       "<div>\n",
       "<style scoped>\n",
       "    .dataframe tbody tr th:only-of-type {\n",
       "        vertical-align: middle;\n",
       "    }\n",
       "\n",
       "    .dataframe tbody tr th {\n",
       "        vertical-align: top;\n",
       "    }\n",
       "\n",
       "    .dataframe thead th {\n",
       "        text-align: right;\n",
       "    }\n",
       "</style>\n",
       "<table border=\"1\" class=\"dataframe\">\n",
       "  <thead>\n",
       "    <tr style=\"text-align: right;\">\n",
       "      <th></th>\n",
       "      <th>StateHoliday</th>\n",
       "      <th>StoreType</th>\n",
       "      <th>Assortment</th>\n",
       "      <th>PromoInterval</th>\n",
       "      <th>Season</th>\n",
       "    </tr>\n",
       "  </thead>\n",
       "  <tbody>\n",
       "    <tr>\n",
       "      <th>count</th>\n",
       "      <td>1017209</td>\n",
       "      <td>1017209</td>\n",
       "      <td>1017209</td>\n",
       "      <td>509178</td>\n",
       "      <td>1017209</td>\n",
       "    </tr>\n",
       "    <tr>\n",
       "      <th>unique</th>\n",
       "      <td>4</td>\n",
       "      <td>4</td>\n",
       "      <td>3</td>\n",
       "      <td>3</td>\n",
       "      <td>4</td>\n",
       "    </tr>\n",
       "    <tr>\n",
       "      <th>top</th>\n",
       "      <td>0</td>\n",
       "      <td>a</td>\n",
       "      <td>a</td>\n",
       "      <td>Jan,Apr,Jul,Oct</td>\n",
       "      <td>Spring</td>\n",
       "    </tr>\n",
       "    <tr>\n",
       "      <th>freq</th>\n",
       "      <td>986159</td>\n",
       "      <td>551627</td>\n",
       "      <td>537445</td>\n",
       "      <td>293122</td>\n",
       "      <td>307740</td>\n",
       "    </tr>\n",
       "  </tbody>\n",
       "</table>\n",
       "</div>"
      ],
      "text/plain": [
       "       StateHoliday StoreType Assortment    PromoInterval   Season\n",
       "count       1017209   1017209    1017209           509178  1017209\n",
       "unique            4         4          3                3        4\n",
       "top               0         a          a  Jan,Apr,Jul,Oct   Spring\n",
       "freq         986159    551627     537445           293122   307740"
      ]
     },
     "execution_count": 63,
     "metadata": {},
     "output_type": "execute_result"
    }
   ],
   "source": [
    "df.drop(['Date'],axis=1).describe(include = 'object')"
   ]
  },
  {
   "cell_type": "code",
   "execution_count": 60,
   "id": "d03acca9-c4fc-463d-b719-b0863f6f85c9",
   "metadata": {},
   "outputs": [
    {
     "data": {
      "text/plain": [
       "Store                         1115\n",
       "DayOfWeek                        7\n",
       "Date                           942\n",
       "Sales                        21734\n",
       "Customers                     4086\n",
       "Open                             2\n",
       "Promo                            2\n",
       "StateHoliday                     4\n",
       "SchoolHoliday                    2\n",
       "StoreType                        4\n",
       "Assortment                       3\n",
       "CompetitionDistance            654\n",
       "CompetitionOpenSinceMonth       12\n",
       "CompetitionOpenSinceYear        23\n",
       "Promo2                           2\n",
       "Promo2SinceWeek                 24\n",
       "Promo2SinceYear                  7\n",
       "PromoInterval                    3\n",
       "Day                             31\n",
       "Week                            52\n",
       "Month                           12\n",
       "Quarter                          4\n",
       "Year                             3\n",
       "Season                           4\n",
       "dtype: int64"
      ]
     },
     "execution_count": 60,
     "metadata": {},
     "output_type": "execute_result"
    }
   ],
   "source": [
    "df.nunique()"
   ]
  },
  {
   "cell_type": "code",
   "execution_count": null,
   "id": "1d615e98-a24f-4bb9-9027-46abbecdcdac",
   "metadata": {},
   "outputs": [],
   "source": []
  },
  {
   "cell_type": "markdown",
   "id": "e43ec758-dbe9-4f68-a84a-7e063555067e",
   "metadata": {},
   "source": [
    "Type \n",
    "\n",
    "\n",
    "# Suppression des colonnes inutiles des données\n",
    "Pour le moment, nous ne pouvons vraiment pas décider\n"
   ]
  },
  {
   "cell_type": "code",
   "execution_count": null,
   "id": "90acfa31-a3ff-4eed-84bf-0c1676f54b1f",
   "metadata": {},
   "outputs": [],
   "source": []
  },
  {
   "cell_type": "markdown",
   "id": "9b78e910-b605-41b9-a3ed-a227de816cda",
   "metadata": {},
   "source": [
    "# Analyse de données exploratoire visuelle \n",
    "    Variables catégorielles : diagramme à barres\n",
    "    Variables continues : Histogramme\n",
    "\n"
   ]
  },
  {
   "cell_type": "code",
   "execution_count": 67,
   "id": "18bdddde-970e-4e96-abe1-9c47b4ab12bd",
   "metadata": {},
   "outputs": [
    {
     "data": {
      "text/plain": [
       "array([[<Axes: title={'center': 'Store'}>,\n",
       "        <Axes: title={'center': 'DayOfWeek'}>,\n",
       "        <Axes: title={'center': 'Date'}>,\n",
       "        <Axes: title={'center': 'Sales'}>],\n",
       "       [<Axes: title={'center': 'Customers'}>,\n",
       "        <Axes: title={'center': 'Open'}>,\n",
       "        <Axes: title={'center': 'Promo'}>,\n",
       "        <Axes: title={'center': 'SchoolHoliday'}>],\n",
       "       [<Axes: title={'center': 'CompetitionDistance'}>,\n",
       "        <Axes: title={'center': 'CompetitionOpenSinceMonth'}>,\n",
       "        <Axes: title={'center': 'CompetitionOpenSinceYear'}>,\n",
       "        <Axes: title={'center': 'Promo2'}>],\n",
       "       [<Axes: title={'center': 'Promo2SinceWeek'}>,\n",
       "        <Axes: title={'center': 'Promo2SinceYear'}>,\n",
       "        <Axes: title={'center': 'Day'}>,\n",
       "        <Axes: title={'center': 'Week'}>],\n",
       "       [<Axes: title={'center': 'Month'}>,\n",
       "        <Axes: title={'center': 'Quarter'}>,\n",
       "        <Axes: title={'center': 'Year'}>, <Axes: >]], dtype=object)"
      ]
     },
     "execution_count": 67,
     "metadata": {},
     "output_type": "execute_result"
    },
    {
     "data": {
      "image/png": "[encoded data removed]",
      "text/plain": [
       "<Figure size 2000x2000 with 20 Axes>"
      ]
     },
     "metadata": {},
     "output_type": "display_data"
    }
   ],
   "source": [
    "df.hist(figsize=(20,20))"
   ]
  },
  {
   "cell_type": "code",
   "execution_count": 85,
   "id": "da802227-7bce-466f-b71c-223008cab017",
   "metadata": {},
   "outputs": [],
   "source": [
    "# Fonction pour afficher d'un coup plusieurs diagrammes de barre\n",
    "def PlotBarCharts(inpData, colsToPlot):\n",
    "    \n",
    "    # Generating multiple subplots\n",
    "    fig, subPlot=plt.subplots(nrows=1, ncols=len(colsToPlot), figsize=(15,5))\n",
    "    fig.suptitle('Bar charts of: '+ str(colsToPlot))\n",
    "\n",
    "    for colName, plotNumber in zip(colsToPlot, range(len(colsToPlot))):\n",
    "        inpData.groupby(colName).size().plot(kind='bar',ax=subPlot[plotNumber])"
   ]
  },
  {
   "cell_type": "code",
   "execution_count": 102,
   "id": "0726c589-7c6e-42b9-a944-1727853b2607",
   "metadata": {},
   "outputs": [],
   "source": [
    "cols = df.select_dtypes(include=['object']).columns"
   ]
  },
  {
   "cell_type": "code",
   "execution_count": 103,
   "id": "b7c555d4-a313-42be-b8cf-635b311fc7ae",
   "metadata": {},
   "outputs": [
    {
     "data": {
      "image/png": "[encoded data removed]",
      "text/plain": [
       "<Figure size 1500x500 with 5 Axes>"
      ]
     },
     "metadata": {},
     "output_type": "display_data"
    }
   ],
   "source": [
    "PlotBarCharts(inpData=df, colsToPlot=cols.tolist())"
   ]
  },
  {
   "cell_type": "code",
   "execution_count": null,
   "id": "10b04d0f-ff28-4ca6-b011-98803996b99e",
   "metadata": {},
   "outputs": [],
   "source": []
  },
  {
   "cell_type": "markdown",
   "id": "be625229-ba86-4a5a-ab95-2df672098f42",
   "metadata": {},
   "source": [
    "# Traitement des valeurs manquantes\n",
    "    __Option 1 : supprimez les enregistrements manquants. Seulement s'il n'y a que quelques lignes perdues.\n",
    "    __Option 2 : Imputer les valeurs aberrantes avec une valeur métier logique"
   ]
  },
  {
   "cell_type": "code",
   "execution_count": 92,
   "id": "c5a14927-5988-4914-bec6-28e9f6be474c",
   "metadata": {},
   "outputs": [
    {
     "data": {
      "text/plain": [
       "Store                             0\n",
       "DayOfWeek                         0\n",
       "Date                              0\n",
       "Sales                             0\n",
       "Customers                         0\n",
       "Open                              0\n",
       "Promo                             0\n",
       "StateHoliday                      0\n",
       "SchoolHoliday                     0\n",
       "StoreType                         0\n",
       "Assortment                        0\n",
       "CompetitionDistance            2642\n",
       "CompetitionOpenSinceMonth    323348\n",
       "CompetitionOpenSinceYear     323348\n",
       "Promo2                            0\n",
       "Promo2SinceWeek              508031\n",
       "Promo2SinceYear              508031\n",
       "PromoInterval                508031\n",
       "Day                               0\n",
       "Week                              0\n",
       "Month                             0\n",
       "Quarter                           0\n",
       "Year                              0\n",
       "Season                            0\n",
       "dtype: int64"
      ]
     },
     "execution_count": 92,
     "metadata": {},
     "output_type": "execute_result"
    }
   ],
   "source": [
    "df.isna().sum()"
   ]
  },
  {
   "cell_type": "code",
   "execution_count": 91,
   "id": "68d7db26-e256-48f7-851d-e525cd708c93",
   "metadata": {},
   "outputs": [
    {
     "data": {
      "text/plain": [
       "Store                             0\n",
       "DayOfWeek                         0\n",
       "Date                              0\n",
       "Sales                             0\n",
       "Customers                         0\n",
       "Open                              0\n",
       "Promo                             0\n",
       "StateHoliday                      0\n",
       "SchoolHoliday                     0\n",
       "StoreType                         0\n",
       "Assortment                        0\n",
       "CompetitionDistance            2642\n",
       "CompetitionOpenSinceMonth    323348\n",
       "CompetitionOpenSinceYear     323348\n",
       "Promo2                            0\n",
       "Promo2SinceWeek              508031\n",
       "Promo2SinceYear              508031\n",
       "PromoInterval                508031\n",
       "Day                               0\n",
       "Week                              0\n",
       "Month                             0\n",
       "Quarter                           0\n",
       "Year                              0\n",
       "Season                            0\n",
       "dtype: int64"
      ]
     },
     "execution_count": 91,
     "metadata": {},
     "output_type": "execute_result"
    }
   ],
   "source": [
    "df.isnull().sum()"
   ]
  },
  {
   "cell_type": "code",
   "execution_count": 105,
   "id": "f57fb4eb-3df8-432f-a5be-9dede5283d07",
   "metadata": {},
   "outputs": [
    {
     "data": {
      "text/plain": [
       "['CompetitionDistance',\n",
       " 'CompetitionOpenSinceMonth',\n",
       " 'CompetitionOpenSinceYear',\n",
       " 'Promo2SinceWeek',\n",
       " 'Promo2SinceYear',\n",
       " 'PromoInterval']"
      ]
     },
     "execution_count": 105,
     "metadata": {},
     "output_type": "execute_result"
    }
   ],
   "source": [
    "df.columns[df.isnull().any()].tolist()"
   ]
  },
  {
   "cell_type": "code",
   "execution_count": 104,
   "id": "bd7fa7fb-9ffe-404d-bd38-3727ae0c7f71",
   "metadata": {},
   "outputs": [
    {
     "data": {
      "text/html": [
       "<div>\n",
       "<style scoped>\n",
       "    .dataframe tbody tr th:only-of-type {\n",
       "        vertical-align: middle;\n",
       "    }\n",
       "\n",
       "    .dataframe tbody tr th {\n",
       "        vertical-align: top;\n",
       "    }\n",
       "\n",
       "    .dataframe thead th {\n",
       "        text-align: right;\n",
       "    }\n",
       "</style>\n",
       "<table border=\"1\" class=\"dataframe\">\n",
       "  <thead>\n",
       "    <tr style=\"text-align: right;\">\n",
       "      <th></th>\n",
       "      <th>CompetitionDistance</th>\n",
       "      <th>CompetitionOpenSinceMonth</th>\n",
       "      <th>CompetitionOpenSinceYear</th>\n",
       "      <th>Promo2SinceWeek</th>\n",
       "      <th>Promo2SinceYear</th>\n",
       "      <th>PromoInterval</th>\n",
       "    </tr>\n",
       "  </thead>\n",
       "  <tbody>\n",
       "    <tr>\n",
       "      <th>0</th>\n",
       "      <td>1270.0</td>\n",
       "      <td>9.0</td>\n",
       "      <td>2008.0</td>\n",
       "      <td>NaN</td>\n",
       "      <td>NaN</td>\n",
       "      <td>NaN</td>\n",
       "    </tr>\n",
       "    <tr>\n",
       "      <th>1</th>\n",
       "      <td>1270.0</td>\n",
       "      <td>9.0</td>\n",
       "      <td>2008.0</td>\n",
       "      <td>NaN</td>\n",
       "      <td>NaN</td>\n",
       "      <td>NaN</td>\n",
       "    </tr>\n",
       "    <tr>\n",
       "      <th>2</th>\n",
       "      <td>1270.0</td>\n",
       "      <td>9.0</td>\n",
       "      <td>2008.0</td>\n",
       "      <td>NaN</td>\n",
       "      <td>NaN</td>\n",
       "      <td>NaN</td>\n",
       "    </tr>\n",
       "    <tr>\n",
       "      <th>3</th>\n",
       "      <td>1270.0</td>\n",
       "      <td>9.0</td>\n",
       "      <td>2008.0</td>\n",
       "      <td>NaN</td>\n",
       "      <td>NaN</td>\n",
       "      <td>NaN</td>\n",
       "    </tr>\n",
       "    <tr>\n",
       "      <th>4</th>\n",
       "      <td>1270.0</td>\n",
       "      <td>9.0</td>\n",
       "      <td>2008.0</td>\n",
       "      <td>NaN</td>\n",
       "      <td>NaN</td>\n",
       "      <td>NaN</td>\n",
       "    </tr>\n",
       "    <tr>\n",
       "      <th>...</th>\n",
       "      <td>...</td>\n",
       "      <td>...</td>\n",
       "      <td>...</td>\n",
       "      <td>...</td>\n",
       "      <td>...</td>\n",
       "      <td>...</td>\n",
       "    </tr>\n",
       "    <tr>\n",
       "      <th>1017204</th>\n",
       "      <td>5350.0</td>\n",
       "      <td>NaN</td>\n",
       "      <td>NaN</td>\n",
       "      <td>22.0</td>\n",
       "      <td>2012.0</td>\n",
       "      <td>Mar,Jun,Sept,Dec</td>\n",
       "    </tr>\n",
       "    <tr>\n",
       "      <th>1017205</th>\n",
       "      <td>5350.0</td>\n",
       "      <td>NaN</td>\n",
       "      <td>NaN</td>\n",
       "      <td>22.0</td>\n",
       "      <td>2012.0</td>\n",
       "      <td>Mar,Jun,Sept,Dec</td>\n",
       "    </tr>\n",
       "    <tr>\n",
       "      <th>1017206</th>\n",
       "      <td>5350.0</td>\n",
       "      <td>NaN</td>\n",
       "      <td>NaN</td>\n",
       "      <td>22.0</td>\n",
       "      <td>2012.0</td>\n",
       "      <td>Mar,Jun,Sept,Dec</td>\n",
       "    </tr>\n",
       "    <tr>\n",
       "      <th>1017207</th>\n",
       "      <td>5350.0</td>\n",
       "      <td>NaN</td>\n",
       "      <td>NaN</td>\n",
       "      <td>22.0</td>\n",
       "      <td>2012.0</td>\n",
       "      <td>Mar,Jun,Sept,Dec</td>\n",
       "    </tr>\n",
       "    <tr>\n",
       "      <th>1017208</th>\n",
       "      <td>5350.0</td>\n",
       "      <td>NaN</td>\n",
       "      <td>NaN</td>\n",
       "      <td>22.0</td>\n",
       "      <td>2012.0</td>\n",
       "      <td>Mar,Jun,Sept,Dec</td>\n",
       "    </tr>\n",
       "  </tbody>\n",
       "</table>\n",
       "<p>1017209 rows × 6 columns</p>\n",
       "</div>"
      ],
      "text/plain": [
       "         CompetitionDistance  CompetitionOpenSinceMonth  \\\n",
       "0                     1270.0                        9.0   \n",
       "1                     1270.0                        9.0   \n",
       "2                     1270.0                        9.0   \n",
       "3                     1270.0                        9.0   \n",
       "4                     1270.0                        9.0   \n",
       "...                      ...                        ...   \n",
       "1017204               5350.0                        NaN   \n",
       "1017205               5350.0                        NaN   \n",
       "1017206               5350.0                        NaN   \n",
       "1017207               5350.0                        NaN   \n",
       "1017208               5350.0                        NaN   \n",
       "\n",
       "         CompetitionOpenSinceYear  Promo2SinceWeek  Promo2SinceYear  \\\n",
       "0                          2008.0              NaN              NaN   \n",
       "1                          2008.0              NaN              NaN   \n",
       "2                          2008.0              NaN              NaN   \n",
       "3                          2008.0              NaN              NaN   \n",
       "4                          2008.0              NaN              NaN   \n",
       "...                           ...              ...              ...   \n",
       "1017204                       NaN             22.0           2012.0   \n",
       "1017205                       NaN             22.0           2012.0   \n",
       "1017206                       NaN             22.0           2012.0   \n",
       "1017207                       NaN             22.0           2012.0   \n",
       "1017208                       NaN             22.0           2012.0   \n",
       "\n",
       "            PromoInterval  \n",
       "0                     NaN  \n",
       "1                     NaN  \n",
       "2                     NaN  \n",
       "3                     NaN  \n",
       "4                     NaN  \n",
       "...                   ...  \n",
       "1017204  Mar,Jun,Sept,Dec  \n",
       "1017205  Mar,Jun,Sept,Dec  \n",
       "1017206  Mar,Jun,Sept,Dec  \n",
       "1017207  Mar,Jun,Sept,Dec  \n",
       "1017208  Mar,Jun,Sept,Dec  \n",
       "\n",
       "[1017209 rows x 6 columns]"
      ]
     },
     "execution_count": 104,
     "metadata": {},
     "output_type": "execute_result"
    }
   ],
   "source": [
    "# Les colonnes ayant des valeurs manquantes\n",
    "df[df.columns[df.isnull().any()].tolist()]"
   ]
  },
  {
   "cell_type": "code",
   "execution_count": 106,
   "id": "4099e946-8401-499b-98f4-a4a975786861",
   "metadata": {},
   "outputs": [
    {
     "data": {
      "text/plain": [
       "Store                        0.000000\n",
       "DayOfWeek                    0.000000\n",
       "Date                         0.000000\n",
       "Sales                        0.000000\n",
       "Customers                    0.000000\n",
       "Open                         0.000000\n",
       "Promo                        0.000000\n",
       "StateHoliday                 0.000000\n",
       "SchoolHoliday                0.000000\n",
       "StoreType                    0.000000\n",
       "Assortment                   0.000000\n",
       "CompetitionDistance          0.002597\n",
       "CompetitionOpenSinceMonth    0.317878\n",
       "CompetitionOpenSinceYear     0.317878\n",
       "Promo2                       0.000000\n",
       "Promo2SinceWeek              0.499436\n",
       "Promo2SinceYear              0.499436\n",
       "PromoInterval                0.499436\n",
       "Day                          0.000000\n",
       "Week                         0.000000\n",
       "Month                        0.000000\n",
       "Quarter                      0.000000\n",
       "Year                         0.000000\n",
       "Season                       0.000000\n",
       "dtype: float64"
      ]
     },
     "execution_count": 106,
     "metadata": {},
     "output_type": "execute_result"
    }
   ],
   "source": [
    "# Pourcentage de nombre de valeurs \n",
    "df.isnull().sum()/df.shape[0]"
   ]
  },
  {
   "cell_type": "markdown",
   "id": "e3c041be-3deb-4b29-b863-bec26ea305ea",
   "metadata": {},
   "source": [
    "# Petit réglage\n",
    "Nous allons faire une interpolation afin de compléter les valeurs manquantes dans la variable CompetitionDistance.\n",
    "Les autres variables ( CompetitionOpenSinceMonth, CompetitionOpenSinceYear, Promo2SinceWeek,Promo2SinceYear, PromoInterval ) seront supprimées  "
   ]
  },
  {
   "cell_type": "code",
   "execution_count": 6,
   "id": "5e890f97-9817-4ea2-8c7d-af9f130b1e12",
   "metadata": {},
   "outputs": [],
   "source": [
    "df[\"CompetitionDistance\"] = df[\"CompetitionDistance\"].fillna(df[\"CompetitionDistance\"].mode()[0])"
   ]
  },
  {
   "cell_type": "code",
   "execution_count": 7,
   "id": "55504f40-0e8e-456d-a604-2a20f51ae7cb",
   "metadata": {},
   "outputs": [],
   "source": [
    "df.drop([\"CompetitionOpenSinceMonth\", \"CompetitionOpenSinceYear\", \"Promo2SinceWeek\",\"Promo2SinceYear\", \"PromoInterval\"], axis=1, inplace= True)"
   ]
  },
  {
   "cell_type": "markdown",
   "id": "a982e414-ddac-4ae6-b31c-38d90f376291",
   "metadata": {},
   "source": [
    "# Data Engineering\n",
    "\n",
    "\n",
    "Comme nous le savons, les modèles DL ne comprennent que les données numériques.\n",
    "\n",
    "Pour transformer une colonne catégorielle en une version codée à chaud, \r",
    "pPython fournit le module de prétraitement du package sklearn avec des fonctions \r\n",
    "riches et faciles à utilise\n",
    "\n",
    ". L'extrait de code suivant transforme la trame de données de \r\n",
    "formation en la forme finale requise pour le développement modèle du"
   ]
  },
  {
   "cell_type": "code",
   "execution_count": 8,
   "id": "9e63da17-cb01-4fc8-b6d7-10abfad3267c",
   "metadata": {},
   "outputs": [],
   "source": [
    "# Définition d'une variable pour chaque type de fonctionnalité\n",
    "from sklearn.preprocessing import LabelEncoder, OneHotEncoder\n",
    "\n",
    "target = [\"Sales\"]\n",
    "numeric_columns = [\"Customers\",\"Open\",\"Promo\",\"Promo2\", \"StateHoliday\",\"SchoolHoliday\",\"CompetitionDistance\"]\n",
    "\n",
    "categorical_columns = [\"DayOfWeek\",\"Quarter\",\"Month\",\"Year\", \"StoreType\",\"Assortment\",\"Season\"]\n",
    "\n",
    "# Définissons une fonction qui prendra la trame de données brute et le nom de la colonne \n",
    "     # et renverra un DF codé à chaud \n",
    "\n",
    "def ohEncoder(df, col):\n",
    "    le = LabelEncoder()\n",
    "    a=le.fit_transform(df[col]).reshape(-1,1)\n",
    "    ohe = OneHotEncoder(sparse=False)\n",
    "    column_names = [col+ \"_\"+ str(i) for i in le.classes_]\n",
    "    return(pd.DataFrame(ohe.fit_transform(a),columns =column_names))"
   ]
  },
  {
   "cell_type": "code",
   "execution_count": 9,
   "id": "b73dab1a-ce50-4a16-9ba9-8fdfd228e15b",
   "metadata": {},
   "outputs": [],
   "source": [
    "# Comme la fonction ci-dessus convertit la colonne une à la fois,\n",
    "#nous créons une boucle pour créer le dataset final avec toutes les fonctionnalités\n",
    "\n",
    "temp = df[numeric_columns]\n",
    "for column in categorical_columns:\n",
    "    temp_df = ohEncoder(df,column)\n",
    "    temp = pd.concat([temp,temp_df],axis=1)"
   ]
  },
  {
   "cell_type": "code",
   "execution_count": 16,
   "id": "13e76ce9-a60b-47b1-b23e-c68df6bf262f",
   "metadata": {},
   "outputs": [
    {
     "name": "stdout",
     "output_type": "stream",
     "text": [
      "Shape of Data: (1017209, 44)\n",
      "Distinct Datatypes: [dtype('int64') dtype('O') dtype('float64')]\n"
     ]
    }
   ],
   "source": [
    "print(\"Shape of Data:\",temp.shape)\n",
    "print(\"Distinct Datatypes:\",temp.dtypes.unique())"
   ]
  },
  {
   "cell_type": "code",
   "execution_count": 10,
   "id": "09f01507-1b23-4098-8a3f-aa773493acad",
   "metadata": {},
   "outputs": [],
   "source": [
    "temp[\"StateHoliday\"]= np.where(temp[\"StateHoliday\"]== '0',0,1)"
   ]
  },
  {
   "cell_type": "code",
   "execution_count": 29,
   "id": "705008c1-076f-452e-a481-20cd2cfe0e06",
   "metadata": {},
   "outputs": [
    {
     "name": "stdout",
     "output_type": "stream",
     "text": [
      "Distinct Datatypes: [dtype('int64') dtype('int32') dtype('float64')]\n"
     ]
    }
   ],
   "source": [
    "print(\"Distinct Datatypes:\",temp.dtypes.unique())"
   ]
  },
  {
   "cell_type": "code",
   "execution_count": null,
   "id": "1f7d53c0-511f-46ec-a7dd-c62c5b9e1cae",
   "metadata": {},
   "outputs": [],
   "source": []
  },
  {
   "cell_type": "markdown",
   "id": "e33431c2-6a96-4e2a-a248-7be8076968ab",
   "metadata": {},
   "source": [
    "Maintenant que nous avons toutes les colonnes sous forme entière, passons à la construction\n",
    "nos ensembles de données de formation et de test.\n",
    "\n",
    "Nous allons diviser les \n",
    "ensembles de données d'entraînement, de validation et de test dans un rapport de 60:20:20\n",
    "\n",
    " Étant donné\r\n",
    "que nous disposons d'un ensemble de données de formation assez important, nous réduisons la taille de la \r\n",
    "validation si nécessaire pour conserver la majorité pour la formati\n",
    "0 : 10."
   ]
  },
  {
   "cell_type": "code",
   "execution_count": 11,
   "id": "ba480234-60ab-4459-9bc4-807792f0b06f",
   "metadata": {},
   "outputs": [],
   "source": [
    "# Nous allons d’abord créer des ensembles de données d’entraînement et de test avec un ratio de 80 :20. \n",
    "# Ensuite, nous utiliserons l'ensemble de données de train pour le diviser davantage en \n",
    "# ensembles de données de formation et de validation selon un rapport de 90 : 10.\n",
    "\n",
    "x_train, x_test, y_train, y_test = train_test_split(temp, df[target],test_size=0.2,random_state=42)\n",
    "\n",
    "x_train, x_val, y_train, y_val = train_test_split(x_train, y_train,test_size=0.1,random_state=42)"
   ]
  },
  {
   "cell_type": "code",
   "execution_count": 19,
   "id": "c7cd0761-9fae-47a6-be3e-16513e49cfd2",
   "metadata": {},
   "outputs": [
    {
     "name": "stdout",
     "output_type": "stream",
     "text": [
      "Shape de x_train: (732390, 44)\n",
      "Shape de x_val: (81377, 44)\n",
      "Shape de x_test: (203442, 44)\n",
      "Shape de y_train: (732390, 1)\n",
      "Shape de y_val: (81377, 1)\n",
      "Shape de y_test: (203442, 1)\n"
     ]
    }
   ],
   "source": [
    "print(\"Shape de x_train:\",x_train.shape)\n",
    "print(\"Shape de x_val:\",x_val.shape)\n",
    "print(\"Shape de x_test:\",x_test.shape)\n",
    "print(\"Shape de y_train:\",y_train.shape)\n",
    "print(\"Shape de y_val:\",y_val.shape)\n",
    "print(\"Shape de y_test:\",y_test.shape)"
   ]
  },
  {
   "cell_type": "markdown",
   "id": "629059eb-3a3b-4ec6-921e-d6d89af2fa29",
   "metadata": {},
   "source": [
    "Les formes de tous les ensembles de données requis semblent être en bon état. \n",
    "Maintenant que nous disposons de l'ensemble de données sous la forme requise pour le \n",
    "développement et la formation du modèle, nous devons concevoir l'architecture DNN."
   ]
  },
  {
   "cell_type": "code",
   "execution_count": null,
   "id": "ca8ae28b-929c-48c7-b183-677b4a42f483",
   "metadata": {},
   "outputs": [],
   "source": []
  },
  {
   "cell_type": "markdown",
   "id": "4f23eea6-5d0d-4fd8-abee-a1caa121c76f",
   "metadata": {},
   "source": [
    "# Définition des performances de référence du modèle"
   ]
  },
  {
   "cell_type": "markdown",
   "id": "7e542658-6591-458a-8c62-aba71fb36810",
   "metadata": {},
   "source": [
    "Pour définir les performances de base du modèle, nous considérons la moyenne de la \n",
    "variable cible dans le dataset d'entraînement comme prédiction pour tous les \n",
    "échantillons de test. La métrique que nous utiliserons pour effectuer ce test est la MAE \n",
    "(erreur absolue moyenne)."
   ]
  },
  {
   "cell_type": "markdown",
   "id": "acfb737b-00c2-43e1-bdb9-05979465f27d",
   "metadata": {},
   "source": [
    "# Conception du Réseau de neurons profonds"
   ]
  },
  {
   "cell_type": "code",
   "execution_count": 12,
   "id": "6f675697-e6c3-448a-84af-3095d06b19e2",
   "metadata": {},
   "outputs": [],
   "source": [
    "# Créons une architecture simple de réseau neuronal profond\n",
    "\n",
    "from keras.models import Sequential\n",
    "from keras.layers import Dense, Dropout"
   ]
  },
  {
   "cell_type": "code",
   "execution_count": 19,
   "id": "5eafd362-dee5-48a0-bc38-fb54f96a5fc0",
   "metadata": {},
   "outputs": [],
   "source": [
    "model = Sequential()\n",
    "model.add(Dense(150,input_dim = 44,activation=\"relu\")) # Le input_dim = 44 car nous avons 44 colonnes\n",
    "model.add(Dense(1,activation = \"linear\"))"
   ]
  },
  {
   "cell_type": "code",
   "execution_count": null,
   "id": "c55683b3-6e7f-4704-90f6-c1692493a32d",
   "metadata": {},
   "outputs": [],
   "source": [
    "#Configuration de modèle\n",
    "model.compile(optimizer='adam',loss=\"mean_absolute_error\",metrics=[\"mean_absolute_error\"])\n"
   ]
  },
  {
   "cell_type": "code",
   "execution_count": 33,
   "id": "ab0a34ba-e46a-4de3-b52e-ac4e2d0d5b70",
   "metadata": {},
   "outputs": [
    {
     "data": {
      "text/plain": [
       "array([[9.790e+02, 1.000e+00, 0.000e+00, ..., 1.000e+00, 0.000e+00,\n",
       "        0.000e+00],\n",
       "       [1.208e+03, 1.000e+00, 1.000e+00, ..., 1.000e+00, 0.000e+00,\n",
       "        0.000e+00],\n",
       "       [1.064e+03, 1.000e+00, 0.000e+00, ..., 0.000e+00, 0.000e+00,\n",
       "        1.000e+00],\n",
       "       ...,\n",
       "       [0.000e+00, 0.000e+00, 0.000e+00, ..., 0.000e+00, 0.000e+00,\n",
       "        0.000e+00],\n",
       "       [3.370e+02, 1.000e+00, 0.000e+00, ..., 0.000e+00, 0.000e+00,\n",
       "        1.000e+00],\n",
       "       [1.117e+03, 1.000e+00, 1.000e+00, ..., 0.000e+00, 1.000e+00,\n",
       "        0.000e+00]], dtype=float32)"
      ]
     },
     "execution_count": 33,
     "metadata": {},
     "output_type": "execute_result"
    }
   ],
   "source": [
    "__train = np.asarray(x_train.values).astype(np.float32)\n",
    "__train"
   ]
  },
  {
   "cell_type": "code",
   "execution_count": 34,
   "id": "05454de8-f65b-434b-8d12-447f66f34635",
   "metadata": {},
   "outputs": [
    {
     "name": "stdout",
     "output_type": "stream",
     "text": [
      "Epoch 1/10\n",
      "11444/11444 [==============================] - 36s 3ms/step - loss: 943.5423 - mean_absolute_error: 943.5423 - val_loss: 820.8766 - val_mean_absolute_error: 820.8766\n",
      "Epoch 2/10\n",
      "11444/11444 [==============================] - 33s 3ms/step - loss: 772.9494 - mean_absolute_error: 772.9494 - val_loss: 733.3605 - val_mean_absolute_error: 733.3605\n",
      "Epoch 3/10\n",
      "11444/11444 [==============================] - 32s 3ms/step - loss: 736.8436 - mean_absolute_error: 736.8436 - val_loss: 715.6372 - val_mean_absolute_error: 715.6372\n",
      "Epoch 4/10\n",
      "11444/11444 [==============================] - 32s 3ms/step - loss: 719.7585 - mean_absolute_error: 719.7585 - val_loss: 718.9854 - val_mean_absolute_error: 718.9854\n",
      "Epoch 5/10\n",
      "11444/11444 [==============================] - 31s 3ms/step - loss: 710.1701 - mean_absolute_error: 710.1701 - val_loss: 707.7684 - val_mean_absolute_error: 707.7684\n",
      "Epoch 6/10\n",
      "11444/11444 [==============================] - 31s 3ms/step - loss: 704.7437 - mean_absolute_error: 704.7437 - val_loss: 701.7779 - val_mean_absolute_error: 701.7779\n",
      "Epoch 7/10\n",
      "11444/11444 [==============================] - 32s 3ms/step - loss: 699.5444 - mean_absolute_error: 699.5444 - val_loss: 690.2316 - val_mean_absolute_error: 690.2316\n",
      "Epoch 8/10\n",
      "11444/11444 [==============================] - 31s 3ms/step - loss: 695.0900 - mean_absolute_error: 695.0900 - val_loss: 683.2043 - val_mean_absolute_error: 683.2043\n",
      "Epoch 9/10\n",
      "11444/11444 [==============================] - 32s 3ms/step - loss: 690.9805 - mean_absolute_error: 690.9805 - val_loss: 697.8326 - val_mean_absolute_error: 697.8326\n",
      "Epoch 10/10\n",
      "11444/11444 [==============================] - 32s 3ms/step - loss: 687.9332 - mean_absolute_error: 687.9332 - val_loss: 672.2597 - val_mean_absolute_error: 672.2597\n"
     ]
    },
    {
     "data": {
      "text/plain": [
       "<keras.callbacks.History at 0x235cd94e8c0>"
      ]
     },
     "execution_count": 34,
     "metadata": {},
     "output_type": "execute_result"
    }
   ],
   "source": [
    "\n",
    "#Train du modèle\n",
    "\n",
    "model.fit(x_train,y_train.values, validation_data=(x_val,y_val),epochs=10,batch_size=64)"
   ]
  },
  {
   "cell_type": "code",
   "execution_count": null,
   "id": "1fab61a8-e79d-4fa1-842d-21bec81e6af7",
   "metadata": {},
   "outputs": [],
   "source": []
  },
  {
   "cell_type": "markdown",
   "id": "b7d42574-3853-4ed8-bb95-c259719d23e1",
   "metadata": {},
   "source": [
    "La sortie précédente est présentée au fur et à mesure que le modèle s'entraîne\n",
    "le DNN. Il prend un lot de 64 échantillons d'apprentissage dans une itération, fait passer \n",
    "chaque échantillon à travers le réseau et mesure la métrique de perte que nous avons \n",
    "définie."
   ]
  },
  {
   "cell_type": "code",
   "execution_count": null,
   "id": "8e68ca25-20fb-4f23-9ce8-50a3bc31da1a",
   "metadata": {},
   "outputs": [],
   "source": []
  },
  {
   "cell_type": "markdown",
   "id": "f60b64d5-541c-4c4a-9545-bce8f7d7ccb6",
   "metadata": {},
   "source": [
    "# Test des performances du modèle"
   ]
  },
  {
   "cell_type": "code",
   "execution_count": 35,
   "id": "1c72d268-2468-4182-a884-dff41bf29f8a",
   "metadata": {},
   "outputs": [
    {
     "name": "stdout",
     "output_type": "stream",
     "text": [
      "6358/6358 [==============================] - 21s 3ms/step - loss: 676.9362 - mean_absolute_error: 676.9362\n",
      "Metric  loss : 676.94\n",
      "Metric  mean_absolute_error : 676.94\n"
     ]
    }
   ],
   "source": [
    "result = model.evaluate(x_test.values,y_test.values)\n",
    "# Affichage des résultats\n",
    "for i in range(len(model.metrics_names)):\n",
    "    print(\"Metric \",model.metrics_names[i],\":\",str(round(result[i],2)))"
   ]
  },
  {
   "cell_type": "markdown",
   "id": "08cbdc0b-75c3-4369-8932-fb16ba1bf3e0",
   "metadata": {},
   "source": [
    "# Amélioration du modèle"
   ]
  },
  {
   "cell_type": "code",
   "execution_count": 36,
   "id": "296e16c0-5e7b-4576-b855-2708ad3dca2b",
   "metadata": {},
   "outputs": [],
   "source": [
    "model = Sequential([\n",
    "                    Dense(150,input_dim = 44,activation=\"relu\"),\n",
    "                    Dense(150,activation=\"relu\"),\n",
    "                    Dense(150,activation=\"relu\"),\n",
    "                    Dense(1,activation = \"linear\")\n",
    "                    ])\n",
    "\n",
    "model.compile(optimizer='adam',loss=\"mean_squared_error\",metrics=[\"mean_absolute_error\"])"
   ]
  },
  {
   "cell_type": "code",
   "execution_count": 37,
   "id": "cda9d520-9258-4d84-a6e6-48ea95bd318d",
   "metadata": {},
   "outputs": [
    {
     "name": "stdout",
     "output_type": "stream",
     "text": [
      "Epoch 1/10\n",
      "11444/11444 [==============================] - 50s 4ms/step - loss: 1712018.2500 - mean_absolute_error: 845.2421 - val_loss: 1176885.8750 - val_mean_absolute_error: 715.6766\n",
      "Epoch 2/10\n",
      "11444/11444 [==============================] - 46s 4ms/step - loss: 1122718.2500 - mean_absolute_error: 712.0651 - val_loss: 1107620.6250 - val_mean_absolute_error: 702.3276\n",
      "Epoch 3/10\n",
      "11444/11444 [==============================] - 45s 4ms/step - loss: 1068015.1250 - mean_absolute_error: 694.6030 - val_loss: 1017225.3750 - val_mean_absolute_error: 678.2047\n",
      "Epoch 4/10\n",
      "11444/11444 [==============================] - 46s 4ms/step - loss: 1047232.0000 - mean_absolute_error: 687.7389 - val_loss: 1085861.2500 - val_mean_absolute_error: 698.3300\n",
      "Epoch 5/10\n",
      "11444/11444 [==============================] - 47s 4ms/step - loss: 1017606.9375 - mean_absolute_error: 678.9590 - val_loss: 957459.3125 - val_mean_absolute_error: 652.8254\n",
      "Epoch 6/10\n",
      "11444/11444 [==============================] - 46s 4ms/step - loss: 1002606.3750 - mean_absolute_error: 674.3315 - val_loss: 989926.2500 - val_mean_absolute_error: 659.6373\n",
      "Epoch 7/10\n",
      "11444/11444 [==============================] - 46s 4ms/step - loss: 978494.5000 - mean_absolute_error: 666.9337 - val_loss: 925178.3750 - val_mean_absolute_error: 647.4047\n",
      "Epoch 8/10\n",
      "11444/11444 [==============================] - 45s 4ms/step - loss: 960711.0000 - mean_absolute_error: 661.8315 - val_loss: 987572.5625 - val_mean_absolute_error: 654.1130\n",
      "Epoch 9/10\n",
      "11444/11444 [==============================] - 45s 4ms/step - loss: 947311.8125 - mean_absolute_error: 657.3179 - val_loss: 1064890.6250 - val_mean_absolute_error: 675.3209\n",
      "Epoch 10/10\n",
      "11444/11444 [==============================] - 48s 4ms/step - loss: 937859.2500 - mean_absolute_error: 653.8248 - val_loss: 898864.4375 - val_mean_absolute_error: 636.2689\n",
      "Metric  loss : 676.94\n",
      "Metric  mean_absolute_error : 676.94\n"
     ]
    }
   ],
   "source": [
    "history = model.fit(x_train,y_train, validation_data=(x_val, \n",
    "y_val),epochs=10,batch_size=64)\n",
    "\n",
    "for i in range(len(model.metrics_names)):\n",
    "    print(\"Metric \",model.metrics_names[i],\":\",str(round(result[i],2)))"
   ]
  },
  {
   "cell_type": "code",
   "execution_count": null,
   "id": "33503234-1b56-46ac-b8de-d1f723cc2ab6",
   "metadata": {},
   "outputs": [],
   "source": []
  },
  {
   "cell_type": "markdown",
   "id": "e524d1f6-621d-4c8c-bd3c-d77665a57e24",
   "metadata": {},
   "source": [
    "Essayons quelques expériences supplémentaires pour voir si nous pouvons nous \n",
    "attendre à des performances encore améliorées."
   ]
  },
  {
   "cell_type": "code",
   "execution_count": 13,
   "id": "629fbff4-6353-4ef3-8422-a3c77ac7ba4e",
   "metadata": {},
   "outputs": [
    {
     "name": "stdout",
     "output_type": "stream",
     "text": [
      "Epoch 1/15\n",
      "11444/11444 [==============================] - 49s 4ms/step - loss: 1730203.5000 - mean_absolute_error: 854.9730 - val_loss: 1158541.2500 - val_mean_absolute_error: 719.4835\n",
      "Epoch 2/15\n",
      "11444/11444 [==============================] - 45s 4ms/step - loss: 1163440.0000 - mean_absolute_error: 724.3613 - val_loss: 1071500.5000 - val_mean_absolute_error: 690.4693\n",
      "Epoch 3/15\n",
      "11444/11444 [==============================] - 44s 4ms/step - loss: 1087408.8750 - mean_absolute_error: 699.5328 - val_loss: 1070184.0000 - val_mean_absolute_error: 679.0824\n",
      "Epoch 4/15\n",
      "11444/11444 [==============================] - 44s 4ms/step - loss: 1051077.3750 - mean_absolute_error: 688.7332 - val_loss: 985097.8125 - val_mean_absolute_error: 660.8915\n",
      "Epoch 5/15\n",
      "11444/11444 [==============================] - 43s 4ms/step - loss: 1021058.9375 - mean_absolute_error: 679.0734 - val_loss: 949846.2500 - val_mean_absolute_error: 655.1287\n",
      "Epoch 6/15\n",
      "11444/11444 [==============================] - 44s 4ms/step - loss: 998816.4375 - mean_absolute_error: 673.0372 - val_loss: 956697.6875 - val_mean_absolute_error: 654.2421\n",
      "Epoch 7/15\n",
      "11444/11444 [==============================] - 43s 4ms/step - loss: 974067.8750 - mean_absolute_error: 665.5368 - val_loss: 947961.1875 - val_mean_absolute_error: 664.4097\n",
      "Epoch 8/15\n",
      "11444/11444 [==============================] - 42s 4ms/step - loss: 959630.2500 - mean_absolute_error: 660.9238 - val_loss: 927875.4375 - val_mean_absolute_error: 658.7587\n",
      "Epoch 9/15\n",
      "11444/11444 [==============================] - 42s 4ms/step - loss: 934633.6875 - mean_absolute_error: 653.4316 - val_loss: 886848.1875 - val_mean_absolute_error: 634.1643\n",
      "Epoch 10/15\n",
      "11444/11444 [==============================] - 42s 4ms/step - loss: 919533.5625 - mean_absolute_error: 647.7369 - val_loss: 889103.6250 - val_mean_absolute_error: 635.7418\n",
      "Epoch 11/15\n",
      "11444/11444 [==============================] - 42s 4ms/step - loss: 894424.3750 - mean_absolute_error: 639.1279 - val_loss: 873213.7500 - val_mean_absolute_error: 632.4117\n",
      "Epoch 12/15\n",
      "11444/11444 [==============================] - 45s 4ms/step - loss: 883104.1250 - mean_absolute_error: 633.9315 - val_loss: 896045.7500 - val_mean_absolute_error: 639.0385\n",
      "Epoch 13/15\n",
      "11444/11444 [==============================] - 42s 4ms/step - loss: 867361.5625 - mean_absolute_error: 628.2344 - val_loss: 807073.8750 - val_mean_absolute_error: 602.5643\n",
      "Epoch 14/15\n",
      "11444/11444 [==============================] - 42s 4ms/step - loss: 856981.6875 - mean_absolute_error: 623.7828 - val_loss: 1027180.8750 - val_mean_absolute_error: 669.4370\n",
      "Epoch 15/15\n",
      "11444/11444 [==============================] - 44s 4ms/step - loss: 846048.7500 - mean_absolute_error: 620.2121 - val_loss: 917743.3750 - val_mean_absolute_error: 638.8123\n"
     ]
    },
    {
     "data": {
      "text/plain": [
       "<keras.callbacks.History at 0x18a90174a90>"
      ]
     },
     "execution_count": 13,
     "metadata": {},
     "output_type": "execute_result"
    }
   ],
   "source": [
    "model = Sequential()\n",
    "model.add(Dense(150,input_dim = 44,activation=\"relu\"))\n",
    "model.add(Dense(150,activation=\"relu\"))\n",
    "model.add(Dense(150,activation=\"relu\"))\n",
    "model.add(Dense(150,activation=\"relu\"))\n",
    "model.add(Dense(150,activation=\"relu\"))\n",
    "model.add(Dense(1,activation = \"linear\"))\n",
    "\n",
    "model.compile(optimizer='adam',loss=\"mean_squared_error\",metrics=[\"mean_absolute_error\"])\n",
    "\n",
    "model.fit(x_train,y_train, validation_data=(x_val,y_val), epochs=15,batch_size=64)"
   ]
  },
  {
   "cell_type": "code",
   "execution_count": 14,
   "id": "a0096a2c-4196-4e93-bef6-d23278f217ab",
   "metadata": {},
   "outputs": [
    {
     "name": "stdout",
     "output_type": "stream",
     "text": [
      "6358/6358 [==============================] - 10s 2ms/step - loss: 930064.6250 - mean_absolute_error: 642.0850\n",
      "Metric  loss : 930064.62\n",
      "Metric  mean_absolute_error : 642.09\n"
     ]
    }
   ],
   "source": [
    "result = model.evaluate(x_test,y_test)\n",
    "for i in range(len(model.metrics_names)):\n",
    "    print(\"Metric \",model.metrics_names[i],\":\",str(round(result[i],2)))"
   ]
  },
  {
   "cell_type": "code",
   "execution_count": null,
   "id": "f3cabe13-8130-4296-bc06-47b84df6824a",
   "metadata": {},
   "outputs": [],
   "source": []
  },
  {
   "cell_type": "markdown",
   "id": "7065822c-a1e3-4106-9bc7-d7c45d623600",
   "metadata": {},
   "source": [
    "# Augmentation du nombre de neurones\n"
   ]
  },
  {
   "cell_type": "code",
   "execution_count": 15,
   "id": "39485cfe-3c1f-48dd-a440-dc20373f07f0",
   "metadata": {},
   "outputs": [],
   "source": [
    "model = Sequential()\n",
    "model.add(Dense(350,input_dim = 44,activation=\"relu\"))\n",
    "model.add(Dense(350,activation=\"relu\"))\n",
    "model.add(Dense(1,activation = \"linear\"))\n",
    "model.compile(optimizer='adam',loss=\"mean_squared_error\",metrics=[\"mean_absolute_error\"])"
   ]
  },
  {
   "cell_type": "code",
   "execution_count": 16,
   "id": "1504a556-9476-4e2e-ad7d-43cc949d56f5",
   "metadata": {},
   "outputs": [
    {
     "name": "stdout",
     "output_type": "stream",
     "text": [
      "Epoch 1/15\n",
      "11444/11444 [==============================] - 31s 3ms/step - loss: 1654171.1250 - mean_absolute_error: 841.9488 - val_loss: 1114009.8750 - val_mean_absolute_error: 709.8079\n",
      "Epoch 2/15\n",
      "11444/11444 [==============================] - 43s 4ms/step - loss: 1135405.1250 - mean_absolute_error: 719.6364 - val_loss: 1248807.3750 - val_mean_absolute_error: 740.8412\n",
      "Epoch 3/15\n",
      "11444/11444 [==============================] - 38s 3ms/step - loss: 1073665.2500 - mean_absolute_error: 697.9321 - val_loss: 1151886.6250 - val_mean_absolute_error: 716.5859\n",
      "Epoch 4/15\n",
      "11444/11444 [==============================] - 37s 3ms/step - loss: 1038846.5000 - mean_absolute_error: 685.5645 - val_loss: 1041608.3125 - val_mean_absolute_error: 690.8209\n",
      "Epoch 5/15\n",
      "11444/11444 [==============================] - 36s 3ms/step - loss: 1017203.1875 - mean_absolute_error: 678.8898 - val_loss: 1009438.8750 - val_mean_absolute_error: 682.8734\n",
      "Epoch 6/15\n",
      "11444/11444 [==============================] - 39s 3ms/step - loss: 997654.0625 - mean_absolute_error: 672.2153 - val_loss: 987385.8125 - val_mean_absolute_error: 663.1054\n",
      "Epoch 7/15\n",
      "11444/11444 [==============================] - 36s 3ms/step - loss: 983110.3125 - mean_absolute_error: 668.0911 - val_loss: 939451.8750 - val_mean_absolute_error: 647.3486\n",
      "Epoch 8/15\n",
      "11444/11444 [==============================] - 35s 3ms/step - loss: 963121.3750 - mean_absolute_error: 661.9773 - val_loss: 936512.1875 - val_mean_absolute_error: 651.5126\n",
      "Epoch 9/15\n",
      "11444/11444 [==============================] - 35s 3ms/step - loss: 947821.1875 - mean_absolute_error: 657.9215 - val_loss: 915031.9375 - val_mean_absolute_error: 640.6160\n",
      "Epoch 10/15\n",
      "11444/11444 [==============================] - 35s 3ms/step - loss: 931643.7500 - mean_absolute_error: 652.7020 - val_loss: 934507.1250 - val_mean_absolute_error: 657.7103\n",
      "Epoch 11/15\n",
      "11444/11444 [==============================] - 36s 3ms/step - loss: 916575.3750 - mean_absolute_error: 647.8565 - val_loss: 901143.1250 - val_mean_absolute_error: 636.7654\n",
      "Epoch 12/15\n",
      "11444/11444 [==============================] - 34s 3ms/step - loss: 905940.6250 - mean_absolute_error: 644.6593 - val_loss: 909044.0000 - val_mean_absolute_error: 643.2604\n",
      "Epoch 13/15\n",
      "11444/11444 [==============================] - 37s 3ms/step - loss: 896361.0000 - mean_absolute_error: 641.5662 - val_loss: 898970.2500 - val_mean_absolute_error: 635.7878\n",
      "Epoch 14/15\n",
      "11444/11444 [==============================] - 37s 3ms/step - loss: 885997.1875 - mean_absolute_error: 638.2517 - val_loss: 859104.0000 - val_mean_absolute_error: 626.8484\n",
      "Epoch 15/15\n",
      "11444/11444 [==============================] - 36s 3ms/step - loss: 874012.8750 - mean_absolute_error: 633.9438 - val_loss: 837107.1250 - val_mean_absolute_error: 614.7375\n"
     ]
    },
    {
     "data": {
      "text/plain": [
       "<keras.callbacks.History at 0x18a916b9810>"
      ]
     },
     "execution_count": 16,
     "metadata": {},
     "output_type": "execute_result"
    }
   ],
   "source": [
    "model.fit(x_train,y_train, validation_data=(x_val,y_val), epochs=15,batch_size=64)"
   ]
  },
  {
   "cell_type": "code",
   "execution_count": 17,
   "id": "8c61c839-8f2e-4e29-9d78-c415891edbad",
   "metadata": {},
   "outputs": [
    {
     "name": "stdout",
     "output_type": "stream",
     "text": [
      "6358/6358 [==============================] - 10s 1ms/step - loss: 853636.4375 - mean_absolute_error: 622.0998\n",
      "Metric  loss : 853636.44\n",
      "Metric  mean_absolute_error : 622.1\n"
     ]
    }
   ],
   "source": [
    "result = model.evaluate(x_test,y_test)\n",
    "for i in range(len(model.metrics_names)):\n",
    "    print(\"Metric \",model.metrics_names[i],\":\", str(round(result[i],2)))"
   ]
  },
  {
   "cell_type": "code",
   "execution_count": null,
   "id": "73da3594-6be6-41f4-867f-f6e5c6629241",
   "metadata": {},
   "outputs": [],
   "source": []
  },
  {
   "cell_type": "code",
   "execution_count": 18,
   "id": "45225e05-9064-4ad3-b3b4-6a15af6a4b01",
   "metadata": {},
   "outputs": [],
   "source": [
    "from keras.callbacks import History"
   ]
  },
  {
   "cell_type": "code",
   "execution_count": 19,
   "id": "bc1491cd-55ff-4e7c-836e-64b1f0278530",
   "metadata": {},
   "outputs": [],
   "source": [
    "history = History()\n",
    "\n",
    "model = Sequential([\n",
    "                Dense(350,input_dim = 44,activation=\"relu\"),\n",
    "                Dense(350,activation=\"relu\"),\n",
    "                Dense(350,activation=\"relu\"),\n",
    "                Dense(350,activation=\"relu\"),\n",
    "                Dense(350,activation=\"relu\"),\n",
    "                Dense(1,activation = \"linear\")\n",
    "        ])\n",
    "\n",
    "model.compile(optimizer='adam',loss=\"mean_squared_error\",metrics=[\"mean_absolute_error\"])"
   ]
  },
  {
   "cell_type": "code",
   "execution_count": 20,
   "id": "5d8c41e9-34db-485b-bbfb-0c1bed22f22e",
   "metadata": {},
   "outputs": [
    {
     "name": "stdout",
     "output_type": "stream",
     "text": [
      "Epoch 1/15\n",
      "11444/11444 [==============================] - 63s 5ms/step - loss: 1642964.0000 - mean_absolute_error: 843.0557 - val_loss: 1866711.3750 - val_mean_absolute_error: 911.6376\n",
      "Epoch 2/15\n",
      "11444/11444 [==============================] - 76s 7ms/step - loss: 1163426.1250 - mean_absolute_error: 725.5475 - val_loss: 1200665.2500 - val_mean_absolute_error: 729.7095\n",
      "Epoch 3/15\n",
      "11444/11444 [==============================] - 70s 6ms/step - loss: 1096586.0000 - mean_absolute_error: 703.7245 - val_loss: 1055682.8750 - val_mean_absolute_error: 679.0757\n",
      "Epoch 4/15\n",
      "11444/11444 [==============================] - 71s 6ms/step - loss: 1054391.8750 - mean_absolute_error: 689.5239 - val_loss: 985238.6875 - val_mean_absolute_error: 658.6341\n",
      "Epoch 5/15\n",
      "11444/11444 [==============================] - 64s 6ms/step - loss: 1029103.6250 - mean_absolute_error: 681.6493 - val_loss: 981573.5000 - val_mean_absolute_error: 660.3715\n",
      "Epoch 6/15\n",
      "11444/11444 [==============================] - 65s 6ms/step - loss: 1008256.9375 - mean_absolute_error: 675.1270 - val_loss: 941594.5625 - val_mean_absolute_error: 649.6274\n",
      "Epoch 7/15\n",
      "11444/11444 [==============================] - 73s 6ms/step - loss: 986847.8125 - mean_absolute_error: 668.6993 - val_loss: 925771.1250 - val_mean_absolute_error: 644.3427\n",
      "Epoch 8/15\n",
      "11444/11444 [==============================] - 65s 6ms/step - loss: 964576.1875 - mean_absolute_error: 661.5523 - val_loss: 934134.1250 - val_mean_absolute_error: 655.9099\n",
      "Epoch 9/15\n",
      "11444/11444 [==============================] - 71s 6ms/step - loss: 945410.6250 - mean_absolute_error: 655.0497 - val_loss: 929249.1250 - val_mean_absolute_error: 647.9929\n",
      "Epoch 10/15\n",
      "11444/11444 [==============================] - 71s 6ms/step - loss: 924323.5625 - mean_absolute_error: 647.7226 - val_loss: 896508.9375 - val_mean_absolute_error: 633.8847\n",
      "Epoch 11/15\n",
      "11444/11444 [==============================] - 69s 6ms/step - loss: 904540.9375 - mean_absolute_error: 640.7646 - val_loss: 1134810.3750 - val_mean_absolute_error: 707.0380\n",
      "Epoch 12/15\n",
      "11444/11444 [==============================] - 66s 6ms/step - loss: 886441.4375 - mean_absolute_error: 633.8957 - val_loss: 985192.6875 - val_mean_absolute_error: 671.4196\n",
      "Epoch 13/15\n",
      "11444/11444 [==============================] - 65s 6ms/step - loss: 875046.9375 - mean_absolute_error: 629.9010 - val_loss: 835293.8125 - val_mean_absolute_error: 608.4737\n",
      "Epoch 14/15\n",
      "11444/11444 [==============================] - 67s 6ms/step - loss: 862893.0000 - mean_absolute_error: 624.9122 - val_loss: 838203.0625 - val_mean_absolute_error: 608.7775\n",
      "Epoch 15/15\n",
      "11444/11444 [==============================] - 66s 6ms/step - loss: 849991.3125 - mean_absolute_error: 620.0269 - val_loss: 792706.9375 - val_mean_absolute_error: 594.2587\n"
     ]
    },
    {
     "data": {
      "text/plain": [
       "<keras.callbacks.History at 0x18a91998670>"
      ]
     },
     "execution_count": 20,
     "metadata": {},
     "output_type": "execute_result"
    }
   ],
   "source": [
    "model.fit(x_train,y_train, validation_data=(x_val,y_val),epochs=15,batch_size=64,callbacks=[history])"
   ]
  },
  {
   "cell_type": "code",
   "execution_count": 21,
   "id": "751048af-1ee6-42c6-8328-9869efb83eae",
   "metadata": {},
   "outputs": [
    {
     "name": "stdout",
     "output_type": "stream",
     "text": [
      "6358/6358 [==============================] - 13s 2ms/step - loss: 808231.1875 - mean_absolute_error: 600.4011\n",
      "Metric  loss : 808231.19\n",
      "Metric  mean_absolute_error : 600.4\n"
     ]
    }
   ],
   "source": [
    "result = model.evaluate(x_test,y_test)\n",
    "\n",
    "for i in range(len(model.metrics_names)):\n",
    "    print(\"Metric \",model.metrics_names[i],\":\",str(round(result[i],2)))"
   ]
  },
  {
   "cell_type": "code",
   "execution_count": null,
   "id": "7538cf7a-f0e6-4e8b-9417-5e4866baacde",
   "metadata": {},
   "outputs": [],
   "source": []
  },
  {
   "cell_type": "markdown",
   "id": "6d6c57dd-aea7-4467-bc30-36be14465416",
   "metadata": {},
   "source": [
    "# Tracer de la métrique de perte à travers les époques"
   ]
  },
  {
   "cell_type": "code",
   "execution_count": 22,
   "id": "b603836d-00f7-48e2-b08d-7fc5bcd34d3f",
   "metadata": {},
   "outputs": [
    {
     "data": {
      "image/png": "[encoded data removed]",
      "text/plain": [
       "<Figure size 640x480 with 1 Axes>"
      ]
     },
     "metadata": {},
     "output_type": "display_data"
    }
   ],
   "source": [
    "plt.plot(history.history['loss'])\n",
    "plt.plot(history.history['val_loss'])\n",
    "plt.title(\"Model's Training & Validation loss across epochs\")\n",
    "plt.ylabel('Loss')\n",
    "plt.xlabel('Epochs')\n",
    "plt.legend(['Train', 'Validation'], loc='upper right')\n",
    "plt.show()"
   ]
  },
  {
   "cell_type": "code",
   "execution_count": 23,
   "id": "ae4fe46a-fdca-4eae-b936-b986ea7c60c3",
   "metadata": {},
   "outputs": [
    {
     "name": "stdout",
     "output_type": "stream",
     "text": [
      "        Actual Sales  Predicted Sales\n",
      "76435              0         0.171777\n",
      "923026          5548      6338.657227\n",
      "731180          7467      7359.207031\n",
      "790350          3360      3964.141602\n",
      "252134         11414     10263.739258\n",
      "425310             0         0.171777\n",
      "666826         14126     11904.504883\n",
      "881992          6299      6139.238281\n",
      "783899         10515     12107.301758\n",
      "540518          7713      8846.811523\n",
      "MSE : 808232.430260053\n",
      "MAE : 600.3994099667651\n"
     ]
    }
   ],
   "source": [
    "# #Prédire manuellement à partir du modèle, au lieu d'utiliser la fonction d'évaluation du modèle\n",
    "\n",
    "y_test[\"Prediction\"] = model.predict(x_test)\n",
    "y_test.columns = [\"Actual Sales\",\"Predicted Sales\"]\n",
    "print(y_test.head(10))\n",
    "\n",
    "\n",
    "from sklearn.metrics import mean_squared_error, mean_absolute_error\n",
    "\n",
    "print(\"MSE :\",mean_squared_error(y_test[\"Actual Sales\"].values,y_test[\"Predicted Sales\"].values))\n",
    "print(\"MAE :\",mean_absolute_error(y_test[\"Actual Sales\"].values,y_test[\"Predicted Sales\"].values))"
   ]
  },
  {
   "cell_type": "code",
   "execution_count": null,
   "id": "e84b03b7-2c5f-4930-b146-9dd55ff84f14",
   "metadata": {},
   "outputs": [],
   "source": []
  },
  {
   "cell_type": "code",
   "execution_count": null,
   "id": "3d2b0b4b-d2ec-4be8-9d28-646045ef20fa",
   "metadata": {},
   "outputs": [],
   "source": []
  },
  {
   "cell_type": "code",
   "execution_count": null,
   "id": "90adee2b-9af6-4c4c-9aee-df7da84f04b0",
   "metadata": {},
   "outputs": [],
   "source": []
  },
  {
   "cell_type": "code",
   "execution_count": null,
   "id": "a72aab84-d91a-4f1c-be32-0259b16ab397",
   "metadata": {},
   "outputs": [],
   "source": []
  },
  {
   "cell_type": "code",
   "execution_count": null,
   "id": "32be53a1-cbbc-4d7e-9758-9be48eb073d7",
   "metadata": {},
   "outputs": [],
   "source": []
  }
 ],
 "metadata": {
  "kernelspec": {
   "display_name": "Python 3 (ipykernel)",
   "language": "python",
   "name": "python3"
  },
  "language_info": {
   "codemirror_mode": {
    "name": "ipython",
    "version": 3
   },
   "file_extension": ".py",
   "mimetype": "text/x-python",
   "name": "python",
   "nbconvert_exporter": "python",
   "pygments_lexer": "ipython3",
   "version": "3.10.13"
  }
 },
 "nbformat": 4,
 "nbformat_minor": 5
}
